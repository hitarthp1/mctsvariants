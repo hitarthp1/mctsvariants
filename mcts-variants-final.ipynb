{
 "cells": [
  {
   "cell_type": "code",
   "execution_count": 1,
   "id": "f38aaa36",
   "metadata": {
    "_cell_guid": "b1076dfc-b9ad-4769-8c92-a6c4dae69d19",
    "_uuid": "8f2839f25d086af736a60e9eeb907d3b93b6e0e5",
    "execution": {
     "iopub.execute_input": "2024-10-05T08:24:59.063235Z",
     "iopub.status.busy": "2024-10-05T08:24:59.062930Z",
     "iopub.status.idle": "2024-10-05T08:24:59.789734Z",
     "shell.execute_reply": "2024-10-05T08:24:59.788886Z"
    },
    "papermill": {
     "duration": 0.74009,
     "end_time": "2024-10-05T08:24:59.792101",
     "exception": false,
     "start_time": "2024-10-05T08:24:59.052011",
     "status": "completed"
    },
    "tags": []
   },
   "outputs": [
    {
     "name": "stdout",
     "output_type": "stream",
     "text": [
      "/kaggle/input/um-game-playing-strength-of-mcts-variants/sample_submission.csv\n",
      "/kaggle/input/um-game-playing-strength-of-mcts-variants/train.csv\n",
      "/kaggle/input/um-game-playing-strength-of-mcts-variants/test.csv\n",
      "/kaggle/input/um-game-playing-strength-of-mcts-variants/concepts.csv\n",
      "/kaggle/input/um-game-playing-strength-of-mcts-variants/kaggle_evaluation/mcts_gateway.py\n",
      "/kaggle/input/um-game-playing-strength-of-mcts-variants/kaggle_evaluation/__init__.py\n",
      "/kaggle/input/um-game-playing-strength-of-mcts-variants/kaggle_evaluation/mcts_inference_server.py\n",
      "/kaggle/input/um-game-playing-strength-of-mcts-variants/kaggle_evaluation/core/templates.py\n",
      "/kaggle/input/um-game-playing-strength-of-mcts-variants/kaggle_evaluation/core/base_gateway.py\n",
      "/kaggle/input/um-game-playing-strength-of-mcts-variants/kaggle_evaluation/core/relay.py\n",
      "/kaggle/input/um-game-playing-strength-of-mcts-variants/kaggle_evaluation/core/kaggle_evaluation.proto\n",
      "/kaggle/input/um-game-playing-strength-of-mcts-variants/kaggle_evaluation/core/__init__.py\n",
      "/kaggle/input/um-game-playing-strength-of-mcts-variants/kaggle_evaluation/core/generated/kaggle_evaluation_pb2.py\n",
      "/kaggle/input/um-game-playing-strength-of-mcts-variants/kaggle_evaluation/core/generated/kaggle_evaluation_pb2_grpc.py\n",
      "/kaggle/input/um-game-playing-strength-of-mcts-variants/kaggle_evaluation/core/generated/__init__.py\n"
     ]
    }
   ],
   "source": [
    "# This Python 3 environment comes with many helpful analytics libraries installed\n",
    "# It is defined by the kaggle/python Docker image: https://github.com/kaggle/docker-python\n",
    "# For example, here's several helpful packages to load\n",
    "\n",
    "import numpy as np # linear algebra\n",
    "import pandas as pd # data processing, CSV file I/O (e.g. pd.read_csv)\n",
    "\n",
    "# Input data files are available in the read-only \"../input/\" directory\n",
    "# For example, running this (by clicking run or pressing Shift+Enter) will list all files under the input directory\n",
    "\n",
    "import os\n",
    "for dirname, _, filenames in os.walk('/kaggle/input'):\n",
    "    for filename in filenames:\n",
    "        print(os.path.join(dirname, filename))\n",
    "\n",
    "# You can write up to 20GB to the current directory (/kaggle/working/) that gets preserved as output when you create a version using \"Save & Run All\" \n",
    "# You can also write temporary files to /kaggle/temp/, but they won't be saved outside of the current session"
   ]
  },
  {
   "cell_type": "markdown",
   "id": "843e714f",
   "metadata": {
    "papermill": {
     "duration": 0.009025,
     "end_time": "2024-10-05T08:24:59.811788",
     "exception": false,
     "start_time": "2024-10-05T08:24:59.802763",
     "status": "completed"
    },
    "tags": []
   },
   "source": [
    "# Data Loading"
   ]
  },
  {
   "cell_type": "code",
   "execution_count": 2,
   "id": "352b6036",
   "metadata": {
    "execution": {
     "iopub.execute_input": "2024-10-05T08:24:59.831306Z",
     "iopub.status.busy": "2024-10-05T08:24:59.830943Z",
     "iopub.status.idle": "2024-10-05T08:24:59.836498Z",
     "shell.execute_reply": "2024-10-05T08:24:59.835793Z"
    },
    "papermill": {
     "duration": 0.017398,
     "end_time": "2024-10-05T08:24:59.838316",
     "exception": false,
     "start_time": "2024-10-05T08:24:59.820918",
     "status": "completed"
    },
    "tags": []
   },
   "outputs": [],
   "source": [
    "def trainTestLoad(train_path, test_path, target_col_name=''):\n",
    "    # Read training data\n",
    "    train_df = pd.read_csv(train_path)\n",
    "    \n",
    "    # Separate features and target variable in training data\n",
    "    X_train = train_df.drop(target_col_name, axis=1)\n",
    "    y_train = train_df[target_col_name]\n",
    "    \n",
    "    # Read test data\n",
    "    X_test = pd.read_csv(test_path)\n",
    "    \n",
    "    print(f\"Training data shape: {X_train.shape}\")\n",
    "    print(f\"Training target shape: {y_train.shape}\")\n",
    "    print(f\"Test data shape: {X_test.shape}\")\n",
    "    \n",
    "    return X_train, y_train, X_test"
   ]
  },
  {
   "cell_type": "code",
   "execution_count": 3,
   "id": "546dd091",
   "metadata": {
    "execution": {
     "iopub.execute_input": "2024-10-05T08:24:59.857830Z",
     "iopub.status.busy": "2024-10-05T08:24:59.857492Z",
     "iopub.status.idle": "2024-10-05T08:25:32.761535Z",
     "shell.execute_reply": "2024-10-05T08:25:32.760539Z"
    },
    "papermill": {
     "duration": 32.925311,
     "end_time": "2024-10-05T08:25:32.772895",
     "exception": false,
     "start_time": "2024-10-05T08:24:59.847584",
     "status": "completed"
    },
    "tags": []
   },
   "outputs": [
    {
     "name": "stdout",
     "output_type": "stream",
     "text": [
      "Training data shape: (233234, 813)\n",
      "Training target shape: (233234,)\n",
      "Test data shape: (3, 810)\n"
     ]
    }
   ],
   "source": [
    "train_file_path = \"/kaggle/input/um-game-playing-strength-of-mcts-variants/train.csv\"\n",
    "test_file_path = \"/kaggle/input/um-game-playing-strength-of-mcts-variants/test.csv\"\n",
    "\n",
    "X_train, y_train, test = trainTestLoad(train_file_path, test_file_path,\n",
    "                                              target_col_name=\"utility_agent1\")"
   ]
  },
  {
   "cell_type": "markdown",
   "id": "6a2d23d0",
   "metadata": {
    "papermill": {
     "duration": 0.009139,
     "end_time": "2024-10-05T08:25:32.791533",
     "exception": false,
     "start_time": "2024-10-05T08:25:32.782394",
     "status": "completed"
    },
    "tags": []
   },
   "source": [
    "# Analyzing Missing Columns & Variance Columns"
   ]
  },
  {
   "cell_type": "code",
   "execution_count": 4,
   "id": "f00038ed",
   "metadata": {
    "execution": {
     "iopub.execute_input": "2024-10-05T08:25:32.811326Z",
     "iopub.status.busy": "2024-10-05T08:25:32.811019Z",
     "iopub.status.idle": "2024-10-05T08:25:34.208245Z",
     "shell.execute_reply": "2024-10-05T08:25:34.207345Z"
    },
    "papermill": {
     "duration": 1.409719,
     "end_time": "2024-10-05T08:25:34.210479",
     "exception": false,
     "start_time": "2024-10-05T08:25:32.800760",
     "status": "completed"
    },
    "tags": []
   },
   "outputs": [],
   "source": [
    "import matplotlib.pyplot as plt\n",
    "import seaborn as sns\n",
    "\n",
    "def analyzeMissingCols(df, missing_percentage=1):\n",
    "    missing = df.isnull().sum()\n",
    "    missing_percent = 100 * df.isnull().sum() / len(df)\n",
    "    missing_table = pd.concat([missing, missing_percent], axis=1, keys=['Missing Values', 'Percent Missing'])\n",
    "    missing_table = missing_table.sort_values('Percent Missing', ascending=False)\n",
    "    missing_table = missing_table[missing_table[\"Percent Missing\"] >= missing_percentage]\n",
    "    \n",
    "    \n",
    "    print(\"Missing Data Analysis:\")\n",
    "    if missing_table['Missing Values'].sum() > 0:\n",
    "        print(missing_table)\n",
    "    else:\n",
    "        print(\"No missing values found in the dataset.\")\n",
    "    \n",
    "    return missing_table.index.tolist()"
   ]
  },
  {
   "cell_type": "code",
   "execution_count": 5,
   "id": "66fc16fc",
   "metadata": {
    "execution": {
     "iopub.execute_input": "2024-10-05T08:25:34.230892Z",
     "iopub.status.busy": "2024-10-05T08:25:34.230466Z",
     "iopub.status.idle": "2024-10-05T08:25:34.839365Z",
     "shell.execute_reply": "2024-10-05T08:25:34.838408Z"
    },
    "papermill": {
     "duration": 0.621626,
     "end_time": "2024-10-05T08:25:34.841688",
     "exception": false,
     "start_time": "2024-10-05T08:25:34.220062",
     "status": "completed"
    },
    "tags": []
   },
   "outputs": [
    {
     "name": "stdout",
     "output_type": "stream",
     "text": [
      "Missing Data Analysis:\n",
      "                           Missing Values  Percent Missing\n",
      "Behaviour                          233234            100.0\n",
      "Duration                           233234            100.0\n",
      "PieceNumber                        233234            100.0\n",
      "MoveDistance                       233234            100.0\n",
      "Complexity                         233234            100.0\n",
      "BoardCoverage                      233234            100.0\n",
      "GameOutcome                        233234            100.0\n",
      "DecisionFactor                     233234            100.0\n",
      "ScoreDifference                    233234            100.0\n",
      "StateEvaluation                    233234            100.0\n",
      "Clarity                            233234            100.0\n",
      "StateRepetition                    233234            100.0\n",
      "BranchingFactor                    233234            100.0\n",
      "Drama                              233234            100.0\n",
      "Decisiveness                       233234            100.0\n",
      "StateEvaluationDifference          233234            100.0\n",
      "MoveEvaluation                     233234            100.0\n",
      "BoardSitesOccupied                 233234            100.0\n"
     ]
    }
   ],
   "source": [
    "missing_values_columns = analyzeMissingCols(X_train)"
   ]
  },
  {
   "cell_type": "code",
   "execution_count": 6,
   "id": "a13de2f1",
   "metadata": {
    "execution": {
     "iopub.execute_input": "2024-10-05T08:25:34.862523Z",
     "iopub.status.busy": "2024-10-05T08:25:34.862228Z",
     "iopub.status.idle": "2024-10-05T08:25:34.869268Z",
     "shell.execute_reply": "2024-10-05T08:25:34.868355Z"
    },
    "papermill": {
     "duration": 0.019764,
     "end_time": "2024-10-05T08:25:34.871650",
     "exception": false,
     "start_time": "2024-10-05T08:25:34.851886",
     "status": "completed"
    },
    "tags": []
   },
   "outputs": [
    {
     "data": {
      "text/plain": [
       "['Behaviour',\n",
       " 'Duration',\n",
       " 'PieceNumber',\n",
       " 'MoveDistance',\n",
       " 'Complexity',\n",
       " 'BoardCoverage',\n",
       " 'GameOutcome',\n",
       " 'DecisionFactor',\n",
       " 'ScoreDifference',\n",
       " 'StateEvaluation',\n",
       " 'Clarity',\n",
       " 'StateRepetition',\n",
       " 'BranchingFactor',\n",
       " 'Drama',\n",
       " 'Decisiveness',\n",
       " 'StateEvaluationDifference',\n",
       " 'MoveEvaluation',\n",
       " 'BoardSitesOccupied']"
      ]
     },
     "execution_count": 6,
     "metadata": {},
     "output_type": "execute_result"
    }
   ],
   "source": [
    "missing_values_columns"
   ]
  },
  {
   "cell_type": "markdown",
   "id": "0d36de8e",
   "metadata": {
    "papermill": {
     "duration": 0.009268,
     "end_time": "2024-10-05T08:25:34.893855",
     "exception": false,
     "start_time": "2024-10-05T08:25:34.884587",
     "status": "completed"
    },
    "tags": []
   },
   "source": [
    "## Zero Variance Columns"
   ]
  },
  {
   "cell_type": "code",
   "execution_count": 7,
   "id": "6817e7f5",
   "metadata": {
    "execution": {
     "iopub.execute_input": "2024-10-05T08:25:34.913987Z",
     "iopub.status.busy": "2024-10-05T08:25:34.913690Z",
     "iopub.status.idle": "2024-10-05T08:25:34.919064Z",
     "shell.execute_reply": "2024-10-05T08:25:34.918165Z"
    },
    "papermill": {
     "duration": 0.01805,
     "end_time": "2024-10-05T08:25:34.921272",
     "exception": false,
     "start_time": "2024-10-05T08:25:34.903222",
     "status": "completed"
    },
    "tags": []
   },
   "outputs": [],
   "source": [
    "def zeroVarCols(df):\n",
    "    # Check for zero-variance columns\n",
    "    zero_var_columns = df.columns[df.nunique() == 1].tolist()\n",
    "    print(\"\\nZero-variance columns (all values are the same):\")\n",
    "    if zero_var_columns:\n",
    "        for col in zero_var_columns:\n",
    "            print(f\"- {col}: {df[col].nunique()}\")\n",
    "        return zero_var_columns\n",
    "    else:\n",
    "        print(\"No zero-variance columns found.\")"
   ]
  },
  {
   "cell_type": "code",
   "execution_count": 8,
   "id": "f6411671",
   "metadata": {
    "execution": {
     "iopub.execute_input": "2024-10-05T08:25:34.945777Z",
     "iopub.status.busy": "2024-10-05T08:25:34.945461Z",
     "iopub.status.idle": "2024-10-05T08:25:37.168534Z",
     "shell.execute_reply": "2024-10-05T08:25:37.167655Z"
    },
    "papermill": {
     "duration": 2.236226,
     "end_time": "2024-10-05T08:25:37.170998",
     "exception": false,
     "start_time": "2024-10-05T08:25:34.934772",
     "status": "completed"
    },
    "tags": []
   },
   "outputs": [
    {
     "name": "stdout",
     "output_type": "stream",
     "text": [
      "\n",
      "Zero-variance columns (all values are the same):\n",
      "- Properties: 1\n",
      "- Format: 1\n",
      "- Time: 1\n",
      "- Discrete: 1\n",
      "- Realtime: 1\n",
      "- Turns: 1\n",
      "- Alternating: 1\n",
      "- Simultaneous: 1\n",
      "- HiddenInformation: 1\n",
      "- Match: 1\n",
      "- AsymmetricRules: 1\n",
      "- AsymmetricPlayRules: 1\n",
      "- AsymmetricEndRules: 1\n",
      "- AsymmetricSetup: 1\n",
      "- Players: 1\n",
      "- NumPlayers: 1\n",
      "- Simulation: 1\n",
      "- Solitaire: 1\n",
      "- TwoPlayer: 1\n",
      "- Multiplayer: 1\n",
      "- Coalition: 1\n",
      "- Puzzle: 1\n",
      "- DeductionPuzzle: 1\n",
      "- PlanningPuzzle: 1\n",
      "- Equipment: 1\n",
      "- Container: 1\n",
      "- Board: 1\n",
      "- PrismShape: 1\n",
      "- ParallelogramShape: 1\n",
      "- RectanglePyramidalShape: 1\n",
      "- TargetShape: 1\n",
      "- BrickTiling: 1\n",
      "- CelticTiling: 1\n",
      "- QuadHexTiling: 1\n",
      "- Hints: 1\n",
      "- PlayableSites: 1\n",
      "- Component: 1\n",
      "- DiceD3: 1\n",
      "- BiasedDice: 1\n",
      "- Card: 1\n",
      "- Domino: 1\n",
      "- Rules: 1\n",
      "- SituationalTurnKo: 1\n",
      "- SituationalSuperko: 1\n",
      "- InitialAmount: 1\n",
      "- InitialPot: 1\n",
      "- Play: 1\n",
      "- BetDecision: 1\n",
      "- BetDecisionFrequency: 1\n",
      "- VoteDecisionFrequency: 1\n",
      "- ChooseTrumpSuitDecision: 1\n",
      "- ChooseTrumpSuitDecisionFrequency: 1\n",
      "- LeapDecisionToFriend: 1\n",
      "- LeapDecisionToFriendFrequency: 1\n",
      "- HopDecisionEnemyToFriend: 1\n",
      "- HopDecisionEnemyToFriendFrequency: 1\n",
      "- HopDecisionFriendToFriend: 1\n",
      "- FromToDecisionWithinBoard: 1\n",
      "- FromToDecisionBetweenContainers: 1\n",
      "- BetEffect: 1\n",
      "- BetEffectFrequency: 1\n",
      "- VoteEffectFrequency: 1\n",
      "- SwapPlayersEffectFrequency: 1\n",
      "- TakeControl: 1\n",
      "- TakeControlFrequency: 1\n",
      "- PassEffectFrequency: 1\n",
      "- SetCost: 1\n",
      "- SetCostFrequency: 1\n",
      "- SetPhase: 1\n",
      "- SetPhaseFrequency: 1\n",
      "- SetTrumpSuit: 1\n",
      "- SetTrumpSuitFrequency: 1\n",
      "- StepEffectFrequency: 1\n",
      "- SlideEffectFrequency: 1\n",
      "- LeapEffectFrequency: 1\n",
      "- HopEffectFrequency: 1\n",
      "- FromToEffectFrequency: 1\n",
      "- SwapPiecesEffect: 1\n",
      "- SwapPiecesEffectFrequency: 1\n",
      "- ShootEffect: 1\n",
      "- ShootEffectFrequency: 1\n",
      "- MaxCapture: 1\n",
      "- OffDiagonalDirection: 1\n",
      "- Information: 1\n",
      "- HidePieceType: 1\n",
      "- HidePieceOwner: 1\n",
      "- HidePieceCount: 1\n",
      "- HidePieceRotation: 1\n",
      "- HidePieceValue: 1\n",
      "- HidePieceState: 1\n",
      "- InvisiblePiece: 1\n",
      "- End: 1\n",
      "- LineDrawFrequency: 1\n",
      "- ConnectionDraw: 1\n",
      "- ConnectionDrawFrequency: 1\n",
      "- GroupLossFrequency: 1\n",
      "- GroupDrawFrequency: 1\n",
      "- LoopLossFrequency: 1\n",
      "- LoopDraw: 1\n",
      "- LoopDrawFrequency: 1\n",
      "- PatternLoss: 1\n",
      "- PatternLossFrequency: 1\n",
      "- PatternDraw: 1\n",
      "- PatternDrawFrequency: 1\n",
      "- PathExtentEndFrequency: 1\n",
      "- PathExtentWinFrequency: 1\n",
      "- PathExtentLossFrequency: 1\n",
      "- PathExtentDraw: 1\n",
      "- PathExtentDrawFrequency: 1\n",
      "- TerritoryLoss: 1\n",
      "- TerritoryLossFrequency: 1\n",
      "- TerritoryDraw: 1\n",
      "- TerritoryDrawFrequency: 1\n",
      "- CheckmateLoss: 1\n",
      "- CheckmateLossFrequency: 1\n",
      "- CheckmateDraw: 1\n",
      "- CheckmateDrawFrequency: 1\n",
      "- NoTargetPieceLoss: 1\n",
      "- NoTargetPieceLossFrequency: 1\n",
      "- NoTargetPieceDraw: 1\n",
      "- NoTargetPieceDrawFrequency: 1\n",
      "- NoOwnPiecesDraw: 1\n",
      "- NoOwnPiecesDrawFrequency: 1\n",
      "- FillLoss: 1\n",
      "- FillLossFrequency: 1\n",
      "- FillDraw: 1\n",
      "- FillDrawFrequency: 1\n",
      "- ScoringDrawFrequency: 1\n",
      "- NoProgressWin: 1\n",
      "- NoProgressWinFrequency: 1\n",
      "- NoProgressLoss: 1\n",
      "- NoProgressLossFrequency: 1\n",
      "- SolvedEnd: 1\n",
      "- PositionalRepetition: 1\n",
      "- SituationalRepetition: 1\n",
      "- Narrowness: 1\n",
      "- Variance: 1\n",
      "- DecisivenessMoves: 1\n",
      "- DecisivenessThreshold: 1\n",
      "- LeadChange: 1\n",
      "- Stability: 1\n",
      "- DramaAverage: 1\n",
      "- DramaMedian: 1\n",
      "- DramaMaximum: 1\n",
      "- DramaMinimum: 1\n",
      "- DramaVariance: 1\n",
      "- DramaChangeAverage: 1\n",
      "- DramaChangeSign: 1\n",
      "- DramaChangeLineBestFit: 1\n",
      "- DramaChangeNumTimes: 1\n",
      "- DramaMaxIncrease: 1\n",
      "- DramaMaxDecrease: 1\n",
      "- MoveEvaluationAverage: 1\n",
      "- MoveEvaluationMedian: 1\n",
      "- MoveEvaluationMaximum: 1\n",
      "- MoveEvaluationMinimum: 1\n",
      "- MoveEvaluationVariance: 1\n",
      "- MoveEvaluationChangeAverage: 1\n",
      "- MoveEvaluationChangeSign: 1\n",
      "- MoveEvaluationChangeLineBestFit: 1\n",
      "- MoveEvaluationChangeNumTimes: 1\n",
      "- MoveEvaluationMaxIncrease: 1\n",
      "- MoveEvaluationMaxDecrease: 1\n",
      "- StateEvaluationDifferenceAverage: 1\n",
      "- StateEvaluationDifferenceMedian: 1\n",
      "- StateEvaluationDifferenceMaximum: 1\n",
      "- StateEvaluationDifferenceMinimum: 1\n",
      "- StateEvaluationDifferenceVariance: 1\n",
      "- StateEvaluationDifferenceChangeAverage: 1\n",
      "- StateEvaluationDifferenceChangeSign: 1\n",
      "- StateEvaluationDifferenceChangeLineBestFit: 1\n",
      "- StateEvaluationDifferenceChangeNumTimes: 1\n",
      "- StateEvaluationDifferenceMaxIncrease: 1\n",
      "- StateEvaluationDifferenceMaxDecrease: 1\n",
      "- BoardSitesOccupiedMinimum: 1\n",
      "- BranchingFactorMinimum: 1\n",
      "- DecisionFactorMinimum: 1\n",
      "- MoveDistanceMinimum: 1\n",
      "- PieceNumberMinimum: 1\n",
      "- ScoreDifferenceMinimum: 1\n",
      "- ScoreDifferenceChangeNumTimes: 1\n",
      "- Roots: 1\n",
      "- Cosine: 1\n",
      "- Sine: 1\n",
      "- Tangent: 1\n",
      "- Exponential: 1\n",
      "- Logarithm: 1\n",
      "- ExclusiveDisjunction: 1\n",
      "- Float: 1\n",
      "- HandComponent: 1\n",
      "- SetHidden: 1\n",
      "- SetInvisible: 1\n",
      "- SetHiddenCount: 1\n",
      "- SetHiddenRotation: 1\n",
      "- SetHiddenState: 1\n",
      "- SetHiddenValue: 1\n",
      "- SetHiddenWhat: 1\n",
      "- SetHiddenWho: 1\n"
     ]
    }
   ],
   "source": [
    "zero_var_columns = zeroVarCols(X_train)\n"
   ]
  },
  {
   "cell_type": "markdown",
   "id": "55fecf34",
   "metadata": {
    "papermill": {
     "duration": 0.009786,
     "end_time": "2024-10-05T08:25:37.191038",
     "exception": false,
     "start_time": "2024-10-05T08:25:37.181252",
     "status": "completed"
    },
    "tags": []
   },
   "source": [
    "# Data Cleaning"
   ]
  },
  {
   "cell_type": "markdown",
   "id": "c2431908",
   "metadata": {
    "papermill": {
     "duration": 0.009637,
     "end_time": "2024-10-05T08:25:37.210472",
     "exception": false,
     "start_time": "2024-10-05T08:25:37.200835",
     "status": "completed"
    },
    "tags": []
   },
   "source": [
    "## Removal of NA Columns and Zero Variance Columns"
   ]
  },
  {
   "cell_type": "code",
   "execution_count": 9,
   "id": "6f9792ae",
   "metadata": {
    "execution": {
     "iopub.execute_input": "2024-10-05T08:25:37.231488Z",
     "iopub.status.busy": "2024-10-05T08:25:37.231170Z",
     "iopub.status.idle": "2024-10-05T08:25:37.236895Z",
     "shell.execute_reply": "2024-10-05T08:25:37.236030Z"
    },
    "papermill": {
     "duration": 0.018406,
     "end_time": "2024-10-05T08:25:37.238720",
     "exception": false,
     "start_time": "2024-10-05T08:25:37.220314",
     "status": "completed"
    },
    "tags": []
   },
   "outputs": [],
   "source": [
    "def removeNAVarCols(df):\n",
    "    # columns not needed\n",
    "    columns_to_drop = [\"Id\", \"LudRules\", \"EnglishRules\", \"GameRulesetName\", 'agent1', 'agent2',\n",
    "                       'num_draws_agent1', 'num_losses_agent1', 'num_wins_agent1']\n",
    "    \n",
    "    zero_var_columns = zeroVarCols(df)\n",
    "    missing_values_coulmns = analyzeMissingCols(df)\n",
    "    \n",
    "    # concatenate all the features to drop them\n",
    "    drop_features = columns_to_drop + zero_var_columns + missing_values_columns\n",
    "    \n",
    "    # drop columns\n",
    "    selected_df = df.drop(drop_features, axis=1)\n",
    "    \n",
    "    print(\"Shape of data after dropping the features : \\n\", selected_df.shape)\n",
    "    \n",
    "    return selected_df"
   ]
  },
  {
   "cell_type": "code",
   "execution_count": 10,
   "id": "bd33fa5b",
   "metadata": {
    "execution": {
     "iopub.execute_input": "2024-10-05T08:25:37.259285Z",
     "iopub.status.busy": "2024-10-05T08:25:37.259027Z",
     "iopub.status.idle": "2024-10-05T08:25:40.377848Z",
     "shell.execute_reply": "2024-10-05T08:25:40.376914Z"
    },
    "papermill": {
     "duration": 3.131494,
     "end_time": "2024-10-05T08:25:40.380112",
     "exception": false,
     "start_time": "2024-10-05T08:25:37.248618",
     "status": "completed"
    },
    "tags": []
   },
   "outputs": [
    {
     "name": "stdout",
     "output_type": "stream",
     "text": [
      "\n",
      "Zero-variance columns (all values are the same):\n",
      "- Properties: 1\n",
      "- Format: 1\n",
      "- Time: 1\n",
      "- Discrete: 1\n",
      "- Realtime: 1\n",
      "- Turns: 1\n",
      "- Alternating: 1\n",
      "- Simultaneous: 1\n",
      "- HiddenInformation: 1\n",
      "- Match: 1\n",
      "- AsymmetricRules: 1\n",
      "- AsymmetricPlayRules: 1\n",
      "- AsymmetricEndRules: 1\n",
      "- AsymmetricSetup: 1\n",
      "- Players: 1\n",
      "- NumPlayers: 1\n",
      "- Simulation: 1\n",
      "- Solitaire: 1\n",
      "- TwoPlayer: 1\n",
      "- Multiplayer: 1\n",
      "- Coalition: 1\n",
      "- Puzzle: 1\n",
      "- DeductionPuzzle: 1\n",
      "- PlanningPuzzle: 1\n",
      "- Equipment: 1\n",
      "- Container: 1\n",
      "- Board: 1\n",
      "- PrismShape: 1\n",
      "- ParallelogramShape: 1\n",
      "- RectanglePyramidalShape: 1\n",
      "- TargetShape: 1\n",
      "- BrickTiling: 1\n",
      "- CelticTiling: 1\n",
      "- QuadHexTiling: 1\n",
      "- Hints: 1\n",
      "- PlayableSites: 1\n",
      "- Component: 1\n",
      "- DiceD3: 1\n",
      "- BiasedDice: 1\n",
      "- Card: 1\n",
      "- Domino: 1\n",
      "- Rules: 1\n",
      "- SituationalTurnKo: 1\n",
      "- SituationalSuperko: 1\n",
      "- InitialAmount: 1\n",
      "- InitialPot: 1\n",
      "- Play: 1\n",
      "- BetDecision: 1\n",
      "- BetDecisionFrequency: 1\n",
      "- VoteDecisionFrequency: 1\n",
      "- ChooseTrumpSuitDecision: 1\n",
      "- ChooseTrumpSuitDecisionFrequency: 1\n",
      "- LeapDecisionToFriend: 1\n",
      "- LeapDecisionToFriendFrequency: 1\n",
      "- HopDecisionEnemyToFriend: 1\n",
      "- HopDecisionEnemyToFriendFrequency: 1\n",
      "- HopDecisionFriendToFriend: 1\n",
      "- FromToDecisionWithinBoard: 1\n",
      "- FromToDecisionBetweenContainers: 1\n",
      "- BetEffect: 1\n",
      "- BetEffectFrequency: 1\n",
      "- VoteEffectFrequency: 1\n",
      "- SwapPlayersEffectFrequency: 1\n",
      "- TakeControl: 1\n",
      "- TakeControlFrequency: 1\n",
      "- PassEffectFrequency: 1\n",
      "- SetCost: 1\n",
      "- SetCostFrequency: 1\n",
      "- SetPhase: 1\n",
      "- SetPhaseFrequency: 1\n",
      "- SetTrumpSuit: 1\n",
      "- SetTrumpSuitFrequency: 1\n",
      "- StepEffectFrequency: 1\n",
      "- SlideEffectFrequency: 1\n",
      "- LeapEffectFrequency: 1\n",
      "- HopEffectFrequency: 1\n",
      "- FromToEffectFrequency: 1\n",
      "- SwapPiecesEffect: 1\n",
      "- SwapPiecesEffectFrequency: 1\n",
      "- ShootEffect: 1\n",
      "- ShootEffectFrequency: 1\n",
      "- MaxCapture: 1\n",
      "- OffDiagonalDirection: 1\n",
      "- Information: 1\n",
      "- HidePieceType: 1\n",
      "- HidePieceOwner: 1\n",
      "- HidePieceCount: 1\n",
      "- HidePieceRotation: 1\n",
      "- HidePieceValue: 1\n",
      "- HidePieceState: 1\n",
      "- InvisiblePiece: 1\n",
      "- End: 1\n",
      "- LineDrawFrequency: 1\n",
      "- ConnectionDraw: 1\n",
      "- ConnectionDrawFrequency: 1\n",
      "- GroupLossFrequency: 1\n",
      "- GroupDrawFrequency: 1\n",
      "- LoopLossFrequency: 1\n",
      "- LoopDraw: 1\n",
      "- LoopDrawFrequency: 1\n",
      "- PatternLoss: 1\n",
      "- PatternLossFrequency: 1\n",
      "- PatternDraw: 1\n",
      "- PatternDrawFrequency: 1\n",
      "- PathExtentEndFrequency: 1\n",
      "- PathExtentWinFrequency: 1\n",
      "- PathExtentLossFrequency: 1\n",
      "- PathExtentDraw: 1\n",
      "- PathExtentDrawFrequency: 1\n",
      "- TerritoryLoss: 1\n",
      "- TerritoryLossFrequency: 1\n",
      "- TerritoryDraw: 1\n",
      "- TerritoryDrawFrequency: 1\n",
      "- CheckmateLoss: 1\n",
      "- CheckmateLossFrequency: 1\n",
      "- CheckmateDraw: 1\n",
      "- CheckmateDrawFrequency: 1\n",
      "- NoTargetPieceLoss: 1\n",
      "- NoTargetPieceLossFrequency: 1\n",
      "- NoTargetPieceDraw: 1\n",
      "- NoTargetPieceDrawFrequency: 1\n",
      "- NoOwnPiecesDraw: 1\n",
      "- NoOwnPiecesDrawFrequency: 1\n",
      "- FillLoss: 1\n",
      "- FillLossFrequency: 1\n",
      "- FillDraw: 1\n",
      "- FillDrawFrequency: 1\n",
      "- ScoringDrawFrequency: 1\n",
      "- NoProgressWin: 1\n",
      "- NoProgressWinFrequency: 1\n",
      "- NoProgressLoss: 1\n",
      "- NoProgressLossFrequency: 1\n",
      "- SolvedEnd: 1\n",
      "- PositionalRepetition: 1\n",
      "- SituationalRepetition: 1\n",
      "- Narrowness: 1\n",
      "- Variance: 1\n",
      "- DecisivenessMoves: 1\n",
      "- DecisivenessThreshold: 1\n",
      "- LeadChange: 1\n",
      "- Stability: 1\n",
      "- DramaAverage: 1\n",
      "- DramaMedian: 1\n",
      "- DramaMaximum: 1\n",
      "- DramaMinimum: 1\n",
      "- DramaVariance: 1\n",
      "- DramaChangeAverage: 1\n",
      "- DramaChangeSign: 1\n",
      "- DramaChangeLineBestFit: 1\n",
      "- DramaChangeNumTimes: 1\n",
      "- DramaMaxIncrease: 1\n",
      "- DramaMaxDecrease: 1\n",
      "- MoveEvaluationAverage: 1\n",
      "- MoveEvaluationMedian: 1\n",
      "- MoveEvaluationMaximum: 1\n",
      "- MoveEvaluationMinimum: 1\n",
      "- MoveEvaluationVariance: 1\n",
      "- MoveEvaluationChangeAverage: 1\n",
      "- MoveEvaluationChangeSign: 1\n",
      "- MoveEvaluationChangeLineBestFit: 1\n",
      "- MoveEvaluationChangeNumTimes: 1\n",
      "- MoveEvaluationMaxIncrease: 1\n",
      "- MoveEvaluationMaxDecrease: 1\n",
      "- StateEvaluationDifferenceAverage: 1\n",
      "- StateEvaluationDifferenceMedian: 1\n",
      "- StateEvaluationDifferenceMaximum: 1\n",
      "- StateEvaluationDifferenceMinimum: 1\n",
      "- StateEvaluationDifferenceVariance: 1\n",
      "- StateEvaluationDifferenceChangeAverage: 1\n",
      "- StateEvaluationDifferenceChangeSign: 1\n",
      "- StateEvaluationDifferenceChangeLineBestFit: 1\n",
      "- StateEvaluationDifferenceChangeNumTimes: 1\n",
      "- StateEvaluationDifferenceMaxIncrease: 1\n",
      "- StateEvaluationDifferenceMaxDecrease: 1\n",
      "- BoardSitesOccupiedMinimum: 1\n",
      "- BranchingFactorMinimum: 1\n",
      "- DecisionFactorMinimum: 1\n",
      "- MoveDistanceMinimum: 1\n",
      "- PieceNumberMinimum: 1\n",
      "- ScoreDifferenceMinimum: 1\n",
      "- ScoreDifferenceChangeNumTimes: 1\n",
      "- Roots: 1\n",
      "- Cosine: 1\n",
      "- Sine: 1\n",
      "- Tangent: 1\n",
      "- Exponential: 1\n",
      "- Logarithm: 1\n",
      "- ExclusiveDisjunction: 1\n",
      "- Float: 1\n",
      "- HandComponent: 1\n",
      "- SetHidden: 1\n",
      "- SetInvisible: 1\n",
      "- SetHiddenCount: 1\n",
      "- SetHiddenRotation: 1\n",
      "- SetHiddenState: 1\n",
      "- SetHiddenValue: 1\n",
      "- SetHiddenWhat: 1\n",
      "- SetHiddenWho: 1\n",
      "Missing Data Analysis:\n",
      "                           Missing Values  Percent Missing\n",
      "Behaviour                          233234            100.0\n",
      "Duration                           233234            100.0\n",
      "PieceNumber                        233234            100.0\n",
      "MoveDistance                       233234            100.0\n",
      "Complexity                         233234            100.0\n",
      "BoardCoverage                      233234            100.0\n",
      "GameOutcome                        233234            100.0\n",
      "DecisionFactor                     233234            100.0\n",
      "ScoreDifference                    233234            100.0\n",
      "StateEvaluation                    233234            100.0\n",
      "Clarity                            233234            100.0\n",
      "StateRepetition                    233234            100.0\n",
      "BranchingFactor                    233234            100.0\n",
      "Drama                              233234            100.0\n",
      "Decisiveness                       233234            100.0\n",
      "StateEvaluationDifference          233234            100.0\n",
      "MoveEvaluation                     233234            100.0\n",
      "BoardSitesOccupied                 233234            100.0\n",
      "Shape of data after dropping the features : \n",
      " (233234, 588)\n"
     ]
    }
   ],
   "source": [
    "X_train = removeNAVarCols(X_train)"
   ]
  },
  {
   "cell_type": "markdown",
   "id": "66004b26",
   "metadata": {
    "papermill": {
     "duration": 0.010089,
     "end_time": "2024-10-05T08:25:40.401001",
     "exception": false,
     "start_time": "2024-10-05T08:25:40.390912",
     "status": "completed"
    },
    "tags": []
   },
   "source": [
    "## Encoding Categorical Variables"
   ]
  },
  {
   "cell_type": "code",
   "execution_count": 11,
   "id": "4d8b33e6",
   "metadata": {
    "execution": {
     "iopub.execute_input": "2024-10-05T08:25:40.422889Z",
     "iopub.status.busy": "2024-10-05T08:25:40.422599Z",
     "iopub.status.idle": "2024-10-05T08:25:40.560471Z",
     "shell.execute_reply": "2024-10-05T08:25:40.559552Z"
    },
    "papermill": {
     "duration": 0.151383,
     "end_time": "2024-10-05T08:25:40.562767",
     "exception": false,
     "start_time": "2024-10-05T08:25:40.411384",
     "status": "completed"
    },
    "tags": []
   },
   "outputs": [],
   "source": [
    "import pandas as pd\n",
    "from sklearn.preprocessing import LabelEncoder, OneHotEncoder\n",
    "from sklearn.compose import ColumnTransformer\n",
    "\n",
    "def encodingCat(df):\n",
    "    categorical_cols = df.select_dtypes(include=['object']).columns\n",
    "    numerical_cols = df.select_dtypes(exclude=['object']).columns\n",
    "    \n",
    "    # OneHotEncoder is used for nominal categorical data (non-ordinal, no specific order)\n",
    "    one_hot_encoder = OneHotEncoder(drop='first', sparse=False)  # drop='first' to avoid multicollinearity\n",
    "\n",
    "    # Option 2: Apply Label Encoding for categorical columns with ordinal data or when there are too many categories\n",
    "    label_encoder = LabelEncoder()\n",
    "\n",
    "    # Loop through the categorical columns and decide on the encoding\n",
    "    for col in categorical_cols:\n",
    "        # If the number of unique categories is high, use Label Encoding; else One-Hot Encoding\n",
    "        if df[col].nunique() < 10:\n",
    "            one_hot_encoded = pd.DataFrame(one_hot_encoder.fit_transform(df[[col]]), columns=one_hot_encoder.get_feature_names_out([col]))\n",
    "            df = df.drop(columns=[col])  # Drop the original categorical column\n",
    "            df = pd.concat([df, one_hot_encoded], axis=1)  # Concatenate the new One-Hot columns\n",
    "        else:\n",
    "            df[col] = label_encoder.fit_transform(df[col])  # Use Label Encoding for high cardinality columns\n",
    "    return df"
   ]
  },
  {
   "cell_type": "code",
   "execution_count": 12,
   "id": "ab4c5a1b",
   "metadata": {
    "execution": {
     "iopub.execute_input": "2024-10-05T08:25:40.584790Z",
     "iopub.status.busy": "2024-10-05T08:25:40.584446Z",
     "iopub.status.idle": "2024-10-05T08:25:40.967374Z",
     "shell.execute_reply": "2024-10-05T08:25:40.966546Z"
    },
    "papermill": {
     "duration": 0.396433,
     "end_time": "2024-10-05T08:25:40.969778",
     "exception": false,
     "start_time": "2024-10-05T08:25:40.573345",
     "status": "completed"
    },
    "tags": []
   },
   "outputs": [],
   "source": [
    "X_train = encodingCat(X_train)"
   ]
  },
  {
   "cell_type": "code",
   "execution_count": 13,
   "id": "2a75a58b",
   "metadata": {
    "execution": {
     "iopub.execute_input": "2024-10-05T08:25:40.992405Z",
     "iopub.status.busy": "2024-10-05T08:25:40.992124Z",
     "iopub.status.idle": "2024-10-05T08:25:40.997870Z",
     "shell.execute_reply": "2024-10-05T08:25:40.997001Z"
    },
    "papermill": {
     "duration": 0.018903,
     "end_time": "2024-10-05T08:25:40.999700",
     "exception": false,
     "start_time": "2024-10-05T08:25:40.980797",
     "status": "completed"
    },
    "tags": []
   },
   "outputs": [
    {
     "data": {
      "text/plain": [
       "(233234, 588)"
      ]
     },
     "execution_count": 13,
     "metadata": {},
     "output_type": "execute_result"
    }
   ],
   "source": [
    "X_train.shape"
   ]
  },
  {
   "cell_type": "markdown",
   "id": "b89ededa",
   "metadata": {
    "papermill": {
     "duration": 0.010507,
     "end_time": "2024-10-05T08:25:41.020913",
     "exception": false,
     "start_time": "2024-10-05T08:25:41.010406",
     "status": "completed"
    },
    "tags": []
   },
   "source": [
    "# Feature Engineering"
   ]
  },
  {
   "cell_type": "markdown",
   "id": "1751df5e",
   "metadata": {
    "papermill": {
     "duration": 0.010446,
     "end_time": "2024-10-05T08:25:41.042038",
     "exception": false,
     "start_time": "2024-10-05T08:25:41.031592",
     "status": "completed"
    },
    "tags": []
   },
   "source": [
    "## Let us now pick Top 10 Features from the Data"
   ]
  },
  {
   "cell_type": "code",
   "execution_count": 14,
   "id": "b7888303",
   "metadata": {
    "execution": {
     "iopub.execute_input": "2024-10-05T08:25:41.064927Z",
     "iopub.status.busy": "2024-10-05T08:25:41.064655Z",
     "iopub.status.idle": "2024-10-05T08:25:41.070630Z",
     "shell.execute_reply": "2024-10-05T08:25:41.069830Z"
    },
    "papermill": {
     "duration": 0.019685,
     "end_time": "2024-10-05T08:25:41.072672",
     "exception": false,
     "start_time": "2024-10-05T08:25:41.052987",
     "status": "completed"
    },
    "tags": []
   },
   "outputs": [],
   "source": [
    "import numpy as np\n",
    "def highCorr(df):\n",
    "    # Calculate the correlation matrix\n",
    "    corr_matrix = df.corr().abs()\n",
    "\n",
    "    # Select upper triangle of correlation matrix\n",
    "    upper = corr_matrix.where(np.triu(np.ones(corr_matrix.shape), k=1).astype(bool))\n",
    "\n",
    "    # Find features with correlation greater than 0.9 (or any threshold you define)\n",
    "    high_corr_features = [column for column in upper.columns if any(upper[column] > 0.82)]\n",
    "\n",
    "    # Drop the highly correlated features\n",
    "    df = df.drop(columns=high_corr_features)\n",
    "\n",
    "    print(f\"Highly correlated features removed: {high_corr_features}\")\n",
    "    return df"
   ]
  },
  {
   "cell_type": "code",
   "execution_count": 15,
   "id": "5b827fcc",
   "metadata": {
    "execution": {
     "iopub.execute_input": "2024-10-05T08:25:41.096006Z",
     "iopub.status.busy": "2024-10-05T08:25:41.095362Z",
     "iopub.status.idle": "2024-10-05T08:28:44.698998Z",
     "shell.execute_reply": "2024-10-05T08:28:44.698013Z"
    },
    "papermill": {
     "duration": 183.627796,
     "end_time": "2024-10-05T08:28:44.711351",
     "exception": false,
     "start_time": "2024-10-05T08:25:41.083555",
     "status": "completed"
    },
    "tags": []
   },
   "outputs": [
    {
     "name": "stdout",
     "output_type": "stream",
     "text": [
      "Highly correlated features removed: ['AsymmetricForces', 'AsymmetricPiecesType', 'Team', 'RegularShape', 'PolygonShape', 'Tiling', 'CircleTiling', 'SpiralTiling', 'ThreeMensMorrisBoardWithTwoTriangles', 'TrackLoop', 'NumPlayableSitesOnBoard', 'NumDiagonalDirections', 'NumInnerSites', 'NumLayers', 'NumEdges', 'NumCells', 'NumVertices', 'NumPerimeterSites', 'NumBottomSites', 'NumLeftSites', 'NumConvexCorners', 'NumContainers', 'NumPlayableSites', 'PieceDirection', 'Dice', 'Tile', 'NumComponentsTypePerPlayer', 'NumDice', 'SwapOption', 'PositionalSuperko', 'NumStartComponentsBoardPerPlayer', 'NumStartComponentsHandPerPlayer', 'NumStartComponentsPerPlayer', 'SwapPlayersDecision', 'PassDecision', 'ProposeDecision', 'AddDecisionFrequency', 'RotationDecisionFrequency', 'StepDecisionFrequency', 'StepDecisionToEmpty', 'StepDecisionToEmptyFrequency', 'SlideDecisionFrequency', 'SlideDecisionToEmptyFrequency', 'LeapDecisionToEmpty', 'LeapDecisionToEmptyFrequency', 'LeapDecisionToEnemy', 'HopDecisionMoreThanOneFrequency', 'HopDecisionEnemyToEmpty', 'HopDecisionEnemyToEmptyFrequency', 'HopDecisionFriendToEnemyFrequency', 'SwapPiecesDecisionFrequency', 'ShootDecisionFrequency', 'MovesEffects', 'Roll', 'RollFrequency', 'ProposeEffectFrequency', 'Sow', 'SowFrequency', 'SowWithEffect', 'SowCapture', 'SowCaptureFrequency', 'SowRemoveFrequency', 'SowBacktrackingFrequency', 'SowProperties', 'SowOriginFirst', 'SowCCW', 'PushEffectFrequency', 'MoveAgain', 'MoveAgainFrequency', 'SetValue', 'SetValueFrequency', 'SetRotation', 'SetRotationFrequency', 'Priority', 'HopCapture', 'HopCaptureMoreThanOneFrequency', 'DirectionCaptureFrequency', 'CaptureSequenceFrequency', 'PathExtent', 'Threat', 'IsEnemy', 'LineOfSight', 'Directions', 'AbsoluteDirections', 'RelativeDirections', 'ForwardDirection', 'LeftwardDirection', 'LeftwardsDirection', 'ForwardRightDirection', 'BackwardRightDirection', 'NumPlayPhase', 'SumDice', 'LineEndFrequency', 'LineWin', 'LineWinFrequency', 'LineLossFrequency', 'ConnectionEnd', 'ConnectionEndFrequency', 'ConnectionWin', 'ConnectionWinFrequency', 'GroupWinFrequency', 'LoopEnd', 'LoopWin', 'LoopWinFrequency', 'LoopLoss', 'PatternEndFrequency', 'PatternWin', 'PatternWinFrequency', 'PathExtentEnd', 'PathExtentWin', 'PathExtentLoss', 'TerritoryEnd', 'TerritoryWin', 'TerritoryWinFrequency', 'Checkmate', 'CheckmateWin', 'CheckmateWinFrequency', 'NoTargetPieceEnd', 'NoTargetPieceEndFrequency', 'NoTargetPieceWinFrequency', 'EliminatePiecesEnd', 'EliminatePiecesWinFrequency', 'EliminatePiecesLossFrequency', 'EliminatePiecesDrawFrequency', 'NoOwnPiecesEnd', 'NoOwnPiecesEndFrequency', 'NoOwnPiecesWin', 'NoOwnPiecesWinFrequency', 'NoOwnPiecesLossFrequency', 'FillEnd', 'FillWin', 'FillWinFrequency', 'ReachEndFrequency', 'ReachDrawFrequency', 'ScoringEnd', 'ScoringWin', 'ScoringWinFrequency', 'NoMovesEnd', 'NoMovesWinFrequency', 'NoProgressEnd', 'NoProgressDraw', 'NoProgressDrawFrequency', 'DurationMoves', 'GameTreeComplexity', 'Drawishness', 'Timeouts', 'BoardSitesOccupiedMedian', 'BoardSitesOccupiedChangeLineBestFit', 'BoardSitesOccupiedMaxIncrease', 'BranchingFactorMedian', 'BranchingFactorVariance', 'BranchingFactorChangeLineBestFit', 'BranchingFactorChangeMaxDecrease', 'DecisionFactorAverage', 'DecisionFactorMedian', 'DecisionFactorMaximum', 'DecisionFactorVariance', 'DecisionFactorChangeAverage', 'DecisionFactorChangeSign', 'DecisionFactorChangeLineBestFit', 'DecisionFactorMaxIncrease', 'DecisionFactorMaxDecrease', 'MoveDistanceMedian', 'MoveDistanceVariance', 'MoveDistanceChangeLineBestFit', 'MoveDistanceMaxIncrease', 'MoveDistanceMaxDecrease', 'PieceNumberMedian', 'PieceNumberMaximum', 'PieceNumberChangeSign', 'PieceNumberChangeLineBestFit', 'PieceNumberChangeNumTimes', 'ScoreDifferenceMedian', 'ScoreDifferenceMaximum', 'ScoreDifferenceVariance', 'ScoreDifferenceChangeAverage', 'ScoreDifferenceChangeLineBestFit', 'ScoreDifferenceMaxIncrease', 'ScoreDifferenceMaxDecrease', 'Comparison', 'Even', 'Union', 'Style', 'BoardStyle', 'GraphStyle', 'MancalaStyle', 'ShibumiStyle', 'ComponentStyle', 'ChessComponent', 'KingComponent', 'KnightComponent', 'RookComponent', 'BishopComponent', 'PawnComponent', 'ShogiComponent', 'TaflComponent', 'StateType', 'StackState', 'SiteState', 'ForgetValues', 'InternalCounter', 'SetInternalCounter', 'Efficiency']\n"
     ]
    }
   ],
   "source": [
    "X_train = highCorr(X_train)"
   ]
  },
  {
   "cell_type": "code",
   "execution_count": null,
   "id": "24c5668a",
   "metadata": {
    "papermill": {
     "duration": 0.010532,
     "end_time": "2024-10-05T08:28:44.732701",
     "exception": false,
     "start_time": "2024-10-05T08:28:44.722169",
     "status": "completed"
    },
    "tags": []
   },
   "outputs": [],
   "source": []
  },
  {
   "cell_type": "code",
   "execution_count": 16,
   "id": "7b279645",
   "metadata": {
    "execution": {
     "iopub.execute_input": "2024-10-05T08:28:44.755835Z",
     "iopub.status.busy": "2024-10-05T08:28:44.755430Z",
     "iopub.status.idle": "2024-10-05T08:28:44.759968Z",
     "shell.execute_reply": "2024-10-05T08:28:44.759094Z"
    },
    "papermill": {
     "duration": 0.01835,
     "end_time": "2024-10-05T08:28:44.761880",
     "exception": false,
     "start_time": "2024-10-05T08:28:44.743530",
     "status": "completed"
    },
    "tags": []
   },
   "outputs": [],
   "source": [
    "top_features = ['AdvantageP1', 'PlayoutsPerSecond',\n",
    "       'DurationTurnsStdDev', 'DrawFrequency', 'DurationTurnsNotTimeouts',\n",
    "       'OutcomeUniformity', 'PieceNumberAverage', 'DurationActions',\n",
    "       'MovesPerSecond']"
   ]
  },
  {
   "cell_type": "code",
   "execution_count": 17,
   "id": "c625b5d6",
   "metadata": {
    "execution": {
     "iopub.execute_input": "2024-10-05T08:28:44.784366Z",
     "iopub.status.busy": "2024-10-05T08:28:44.784102Z",
     "iopub.status.idle": "2024-10-05T08:28:44.788095Z",
     "shell.execute_reply": "2024-10-05T08:28:44.787270Z"
    },
    "papermill": {
     "duration": 0.017638,
     "end_time": "2024-10-05T08:28:44.789999",
     "exception": false,
     "start_time": "2024-10-05T08:28:44.772361",
     "status": "completed"
    },
    "tags": []
   },
   "outputs": [],
   "source": [
    "def impFeatures(df):\n",
    "    df = df[top_features]\n",
    "    return df"
   ]
  },
  {
   "cell_type": "code",
   "execution_count": 18,
   "id": "b5f46f27",
   "metadata": {
    "execution": {
     "iopub.execute_input": "2024-10-05T08:28:44.812369Z",
     "iopub.status.busy": "2024-10-05T08:28:44.812106Z",
     "iopub.status.idle": "2024-10-05T08:28:44.821610Z",
     "shell.execute_reply": "2024-10-05T08:28:44.820943Z"
    },
    "papermill": {
     "duration": 0.02284,
     "end_time": "2024-10-05T08:28:44.823535",
     "exception": false,
     "start_time": "2024-10-05T08:28:44.800695",
     "status": "completed"
    },
    "tags": []
   },
   "outputs": [],
   "source": [
    "X_train = impFeatures(X_train)"
   ]
  },
  {
   "cell_type": "code",
   "execution_count": 19,
   "id": "6e420e0e",
   "metadata": {
    "execution": {
     "iopub.execute_input": "2024-10-05T08:28:44.846094Z",
     "iopub.status.busy": "2024-10-05T08:28:44.845829Z",
     "iopub.status.idle": "2024-10-05T08:28:44.851378Z",
     "shell.execute_reply": "2024-10-05T08:28:44.850548Z"
    },
    "papermill": {
     "duration": 0.019262,
     "end_time": "2024-10-05T08:28:44.853374",
     "exception": false,
     "start_time": "2024-10-05T08:28:44.834112",
     "status": "completed"
    },
    "tags": []
   },
   "outputs": [
    {
     "data": {
      "text/plain": [
       "(233234, 9)"
      ]
     },
     "execution_count": 19,
     "metadata": {},
     "output_type": "execute_result"
    }
   ],
   "source": [
    "X_train.shape"
   ]
  },
  {
   "cell_type": "markdown",
   "id": "a0c82f8f",
   "metadata": {
    "papermill": {
     "duration": 0.010618,
     "end_time": "2024-10-05T08:28:44.874888",
     "exception": false,
     "start_time": "2024-10-05T08:28:44.864270",
     "status": "completed"
    },
    "tags": []
   },
   "source": [
    "# Model Training\n",
    "\n",
    "We can use different models and perform cross-validation to select the best one based on performance metrics.\n",
    "    1.  Train multiple models.\n",
    "    2.  Perform cross-validation to evaluate performance.\n",
    "    3.  Select the best model based on cross-validation results.\n",
    "   \n",
    "Here are some popular models:\n",
    "    •   Linear Regression.\n",
    "    •   RandomForest.\n",
    "    •   Gradient Boosting (GBM).\n",
    "    •   XGBoost.\n",
    "We will train each model, perform cross-validation, and select the best one."
   ]
  },
  {
   "cell_type": "code",
   "execution_count": 20,
   "id": "67ffa5e8",
   "metadata": {
    "execution": {
     "iopub.execute_input": "2024-10-05T08:28:44.898372Z",
     "iopub.status.busy": "2024-10-05T08:28:44.898078Z",
     "iopub.status.idle": "2024-10-05T08:28:45.293320Z",
     "shell.execute_reply": "2024-10-05T08:28:45.292558Z"
    },
    "papermill": {
     "duration": 0.41009,
     "end_time": "2024-10-05T08:28:45.295893",
     "exception": false,
     "start_time": "2024-10-05T08:28:44.885803",
     "status": "completed"
    },
    "tags": []
   },
   "outputs": [],
   "source": [
    "import numpy as np\n",
    "import pandas as pd\n",
    "from sklearn.model_selection import train_test_split, KFold, cross_val_score\n",
    "from sklearn.preprocessing import StandardScaler\n",
    "from sklearn.pipeline import Pipeline\n",
    "from sklearn.metrics import mean_squared_error, make_scorer\n",
    "from xgboost import XGBRegressor\n",
    "import optuna\n",
    "from math import sqrt\n",
    "\n",
    "def modelTrain(df, df_target, scaler=True, test_size=0.4, random_state=42, n_trials=50):\n",
    "    \n",
    "    # Error metric\n",
    "    def rmse(y_true, y_pred):\n",
    "        return np.sqrt(mean_squared_error(y_true, y_pred))\n",
    "    \n",
    "    # Prepare the data\n",
    "    X = df\n",
    "    y = df_target\n",
    "    \n",
    "    # Split the data into training and test sets\n",
    "    X_train, X_test, y_train, y_test = train_test_split(X, y, test_size=test_size, random_state=random_state)\n",
    "    \n",
    "    # Objective function for Optuna\n",
    "    def objective(trial):\n",
    "        # Define the hyper-parameters to tune\n",
    "        params = {\n",
    "            'n_estimators': trial.suggest_int('n_estimators', 50, 200),\n",
    "            'learning_rate': trial.suggest_float('learning_rate', 0.01, 0.3),\n",
    "            'max_depth': trial.suggest_int('max_depth', 3, 9),\n",
    "            'subsample': trial.suggest_float('subsample', 0.5, 1.0),\n",
    "            'colsample_bytree': trial.suggest_float('colsample_bytree', 0.5, 1.0),\n",
    "            'gamma': trial.suggest_float('gamma', 0, 0.5),\n",
    "            'min_child_weight': trial.suggest_int('min_child_weight', 1, 10)\n",
    "        }\n",
    "        \n",
    "        # Define XGBoost pipeline with optional scaler\n",
    "        xgb_pipeline = Pipeline([\n",
    "            ('scaler', StandardScaler() if scaler else 'passthrough'),\n",
    "            ('regressor', XGBRegressor(random_state=random_state, **params))\n",
    "        ])\n",
    "        \n",
    "        # Cross-validation\n",
    "        kf = KFold(n_splits=5, shuffle=True, random_state=random_state)\n",
    "        \n",
    "        # Perform cross-validation and return the mean RMSE\n",
    "        cv_scores = cross_val_score(xgb_pipeline, X_train, y_train, cv=kf, \n",
    "                                    scoring=make_scorer(rmse, greater_is_better=False))\n",
    "        return -cv_scores.mean()  # minimize RMSE\n",
    "    \n",
    "    # Perform Optuna optimization\n",
    "    print(f\"Running Optuna hyper-parameter tuning for XGBoost with {n_trials} trials...\")\n",
    "    study = optuna.create_study(direction='minimize')\n",
    "    study.optimize(objective, n_trials=n_trials)\n",
    "    \n",
    "    # Get the best hyper-parameters\n",
    "    best_params = study.best_params\n",
    "    print(f\"Best Hyper-parameters: {best_params}\")\n",
    "    \n",
    "    # Build the final model with the best parameters\n",
    "    best_model = Pipeline([\n",
    "        ('scaler', StandardScaler() if scaler else 'passthrough'),\n",
    "        ('regressor', XGBRegressor(random_state=random_state, **best_params))\n",
    "    ])\n",
    "    \n",
    "    # Train the best model on the full training data\n",
    "    best_model.fit(X_train, y_train)\n",
    "    \n",
    "    # Make predictions on the test set\n",
    "    y_pred = best_model.predict(X_test)\n",
    "    \n",
    "    # Evaluate the model on the test data\n",
    "    test_score = best_model.score(X_test, y_test)\n",
    "    rmse_value = rmse(y_test, y_pred)\n",
    "    \n",
    "    print(f\"Test R^2 Score: {test_score}\")\n",
    "    print(f\"Test RMSE: {rmse_value}\")\n",
    "    \n",
    "    return best_model, y_pred\n",
    "\n",
    "# Example usage:\n",
    "# modelTrain(df, df_target, n_trials=50)"
   ]
  },
  {
   "cell_type": "code",
   "execution_count": 21,
   "id": "00ebd5c1",
   "metadata": {
    "execution": {
     "iopub.execute_input": "2024-10-05T08:28:45.319076Z",
     "iopub.status.busy": "2024-10-05T08:28:45.318755Z",
     "iopub.status.idle": "2024-10-05T08:31:38.683943Z",
     "shell.execute_reply": "2024-10-05T08:31:38.683123Z"
    },
    "papermill": {
     "duration": 173.379476,
     "end_time": "2024-10-05T08:31:38.686311",
     "exception": false,
     "start_time": "2024-10-05T08:28:45.306835",
     "status": "completed"
    },
    "tags": []
   },
   "outputs": [
    {
     "name": "stderr",
     "output_type": "stream",
     "text": [
      "[I 2024-10-05 08:28:45,345] A new study created in memory with name: no-name-0f187b7f-7722-4d97-a57a-6ea54c2c3a4f\n"
     ]
    },
    {
     "name": "stdout",
     "output_type": "stream",
     "text": [
      "Running Optuna hyper-parameter tuning for XGBoost with 50 trials...\n"
     ]
    },
    {
     "name": "stderr",
     "output_type": "stream",
     "text": [
      "[I 2024-10-05 08:28:51,033] Trial 0 finished with value: 0.4650493962364819 and parameters: {'n_estimators': 139, 'learning_rate': 0.08885841975374009, 'max_depth': 9, 'subsample': 0.8472907109924175, 'colsample_bytree': 0.6289632253188413, 'gamma': 0.033711846582090754, 'min_child_weight': 9}. Best is trial 0 with value: 0.4650493962364819.\n",
      "[I 2024-10-05 08:28:55,395] Trial 1 finished with value: 0.4652826939787257 and parameters: {'n_estimators': 184, 'learning_rate': 0.16783692099559297, 'max_depth': 5, 'subsample': 0.581418621342531, 'colsample_bytree': 0.8386660898048803, 'gamma': 0.32670221287185136, 'min_child_weight': 1}. Best is trial 0 with value: 0.4650493962364819.\n",
      "[I 2024-10-05 08:28:58,443] Trial 2 finished with value: 0.46522067152021884 and parameters: {'n_estimators': 64, 'learning_rate': 0.20553464902955146, 'max_depth': 9, 'subsample': 0.8177194265147236, 'colsample_bytree': 0.8959398274667187, 'gamma': 0.0481982718051025, 'min_child_weight': 2}. Best is trial 0 with value: 0.4650493962364819.\n",
      "[I 2024-10-05 08:29:01,059] Trial 3 finished with value: 0.481333797188499 and parameters: {'n_estimators': 162, 'learning_rate': 0.14824407909073284, 'max_depth': 3, 'subsample': 0.9635487317156393, 'colsample_bytree': 0.8473625081162219, 'gamma': 0.19206641855730106, 'min_child_weight': 8}. Best is trial 0 with value: 0.4650493962364819.\n",
      "[I 2024-10-05 08:29:04,500] Trial 4 finished with value: 0.46526879454922687 and parameters: {'n_estimators': 74, 'learning_rate': 0.16397355765214833, 'max_depth': 9, 'subsample': 0.6188639494977626, 'colsample_bytree': 0.9457543981925449, 'gamma': 0.05833517322792581, 'min_child_weight': 7}. Best is trial 0 with value: 0.4650493962364819.\n",
      "[I 2024-10-05 08:29:06,598] Trial 5 finished with value: 0.5064096295911751 and parameters: {'n_estimators': 119, 'learning_rate': 0.05574692304996636, 'max_depth': 3, 'subsample': 0.9043643052970134, 'colsample_bytree': 0.8939218379913825, 'gamma': 0.3524982541673439, 'min_child_weight': 3}. Best is trial 0 with value: 0.4650493962364819.\n",
      "[I 2024-10-05 08:29:09,076] Trial 6 finished with value: 0.46591878955137683 and parameters: {'n_estimators': 98, 'learning_rate': 0.26945456400144446, 'max_depth': 5, 'subsample': 0.5599930989326326, 'colsample_bytree': 0.7061034765120355, 'gamma': 0.3413359319866964, 'min_child_weight': 8}. Best is trial 0 with value: 0.4650493962364819.\n",
      "[I 2024-10-05 08:29:11,804] Trial 7 finished with value: 0.4656565955157285 and parameters: {'n_estimators': 144, 'learning_rate': 0.12618063663100632, 'max_depth': 8, 'subsample': 0.9596426695370022, 'colsample_bytree': 0.7903483293695176, 'gamma': 0.4523470754432808, 'min_child_weight': 10}. Best is trial 0 with value: 0.4650493962364819.\n",
      "[I 2024-10-05 08:29:13,514] Trial 8 finished with value: 0.4737629756427923 and parameters: {'n_estimators': 78, 'learning_rate': 0.20976072937275364, 'max_depth': 4, 'subsample': 0.9376533908154778, 'colsample_bytree': 0.8836560170671663, 'gamma': 0.05889958199674372, 'min_child_weight': 5}. Best is trial 0 with value: 0.4650493962364819.\n",
      "[I 2024-10-05 08:29:17,124] Trial 9 finished with value: 0.4648836267090971 and parameters: {'n_estimators': 63, 'learning_rate': 0.16425780627949604, 'max_depth': 8, 'subsample': 0.7855712420413007, 'colsample_bytree': 0.9982176521399369, 'gamma': 0.35302252998201505, 'min_child_weight': 10}. Best is trial 9 with value: 0.4648836267090971.\n",
      "[I 2024-10-05 08:29:19,061] Trial 10 finished with value: 0.5185525870607577 and parameters: {'n_estimators': 50, 'learning_rate': 0.017678641728763156, 'max_depth': 7, 'subsample': 0.6910156663008663, 'colsample_bytree': 0.9998356097731752, 'gamma': 0.49984005964105027, 'min_child_weight': 5}. Best is trial 9 with value: 0.4648836267090971.\n",
      "[I 2024-10-05 08:29:22,656] Trial 11 finished with value: 0.465164054694503 and parameters: {'n_estimators': 118, 'learning_rate': 0.09044418616618626, 'max_depth': 7, 'subsample': 0.7917432855564819, 'colsample_bytree': 0.5781919207857862, 'gamma': 0.20353609129793224, 'min_child_weight': 10}. Best is trial 9 with value: 0.4648836267090971.\n",
      "[I 2024-10-05 08:29:27,409] Trial 12 finished with value: 0.46479486221503363 and parameters: {'n_estimators': 147, 'learning_rate': 0.08908948353779839, 'max_depth': 8, 'subsample': 0.8510163834023874, 'colsample_bytree': 0.6494388203189461, 'gamma': 0.14026123319013772, 'min_child_weight': 10}. Best is trial 12 with value: 0.46479486221503363.\n",
      "[I 2024-10-05 08:29:33,148] Trial 13 finished with value: 0.46547272586615646 and parameters: {'n_estimators': 191, 'learning_rate': 0.291229152954662, 'max_depth': 7, 'subsample': 0.7154205036213204, 'colsample_bytree': 0.7042164204531784, 'gamma': 0.1321211058696206, 'min_child_weight': 7}. Best is trial 12 with value: 0.46479486221503363.\n",
      "[I 2024-10-05 08:29:37,083] Trial 14 finished with value: 0.4649378182267653 and parameters: {'n_estimators': 165, 'learning_rate': 0.10281881309203134, 'max_depth': 8, 'subsample': 0.8589601486593482, 'colsample_bytree': 0.5494337608236212, 'gamma': 0.27271035983824177, 'min_child_weight': 10}. Best is trial 12 with value: 0.46479486221503363.\n",
      "[I 2024-10-05 08:29:39,451] Trial 15 finished with value: 0.4658501328421519 and parameters: {'n_estimators': 99, 'learning_rate': 0.21111529139899976, 'max_depth': 6, 'subsample': 0.7571135765255046, 'colsample_bytree': 0.5007705315037401, 'gamma': 0.4215973652429148, 'min_child_weight': 6}. Best is trial 12 with value: 0.46479486221503363.\n",
      "[I 2024-10-05 08:29:43,152] Trial 16 finished with value: 0.4731432879758602 and parameters: {'n_estimators': 100, 'learning_rate': 0.029595404892704937, 'max_depth': 8, 'subsample': 0.6648953116181677, 'colsample_bytree': 0.6607260762827057, 'gamma': 0.13830592378742693, 'min_child_weight': 9}. Best is trial 12 with value: 0.46479486221503363.\n",
      "[I 2024-10-05 08:29:48,151] Trial 17 finished with value: 0.46817608261549637 and parameters: {'n_estimators': 137, 'learning_rate': 0.06263996155979443, 'max_depth': 6, 'subsample': 0.8945297261222851, 'colsample_bytree': 0.7601502219205308, 'gamma': 0.277498172618436, 'min_child_weight': 4}. Best is trial 12 with value: 0.46479486221503363.\n",
      "[I 2024-10-05 08:29:53,559] Trial 18 finished with value: 0.46540455218466653 and parameters: {'n_estimators': 163, 'learning_rate': 0.2452183495959514, 'max_depth': 8, 'subsample': 0.7584103228222847, 'colsample_bytree': 0.6404331409801465, 'gamma': 0.13234518923600475, 'min_child_weight': 8}. Best is trial 12 with value: 0.46479486221503363.\n",
      "[I 2024-10-05 08:29:57,587] Trial 19 finished with value: 0.4649554744814048 and parameters: {'n_estimators': 200, 'learning_rate': 0.1292806888027463, 'max_depth': 7, 'subsample': 0.8052716291701221, 'colsample_bytree': 0.9952184163579618, 'gamma': 0.403401275057904, 'min_child_weight': 7}. Best is trial 12 with value: 0.46479486221503363.\n",
      "[I 2024-10-05 08:29:59,636] Trial 20 finished with value: 0.464894191533508 and parameters: {'n_estimators': 86, 'learning_rate': 0.1872852522247638, 'max_depth': 9, 'subsample': 0.9980237277200987, 'colsample_bytree': 0.7022481340309933, 'gamma': 0.2176062350530443, 'min_child_weight': 9}. Best is trial 12 with value: 0.46479486221503363.\n",
      "[I 2024-10-05 08:30:01,438] Trial 21 finished with value: 0.46495882346312933 and parameters: {'n_estimators': 50, 'learning_rate': 0.181569475049453, 'max_depth': 9, 'subsample': 0.991155482297162, 'colsample_bytree': 0.7053176995990454, 'gamma': 0.2245824496420752, 'min_child_weight': 9}. Best is trial 12 with value: 0.46479486221503363.\n",
      "[I 2024-10-05 08:30:03,295] Trial 22 finished with value: 0.46569012376631347 and parameters: {'n_estimators': 81, 'learning_rate': 0.19060429415707691, 'max_depth': 8, 'subsample': 0.9983482732941553, 'colsample_bytree': 0.7702194051831387, 'gamma': 0.2983833931130413, 'min_child_weight': 10}. Best is trial 12 with value: 0.46479486221503363.\n",
      "[I 2024-10-05 08:30:05,816] Trial 23 finished with value: 0.464934053217711 and parameters: {'n_estimators': 90, 'learning_rate': 0.23411067876528074, 'max_depth': 9, 'subsample': 0.9019627567685398, 'colsample_bytree': 0.5945356578655521, 'gamma': 0.16729817177637055, 'min_child_weight': 9}. Best is trial 12 with value: 0.46479486221503363.\n",
      "[I 2024-10-05 08:30:09,778] Trial 24 finished with value: 0.46497937481065243 and parameters: {'n_estimators': 111, 'learning_rate': 0.13011238196819275, 'max_depth': 8, 'subsample': 0.8551776430864758, 'colsample_bytree': 0.6788319002758341, 'gamma': 0.09505216178905648, 'min_child_weight': 10}. Best is trial 12 with value: 0.46479486221503363.\n",
      "[I 2024-10-05 08:30:14,138] Trial 25 finished with value: 0.4650926161631294 and parameters: {'n_estimators': 150, 'learning_rate': 0.1509734828134614, 'max_depth': 7, 'subsample': 0.7246125304735752, 'colsample_bytree': 0.7409740673346593, 'gamma': 0.23549720515344172, 'min_child_weight': 8}. Best is trial 12 with value: 0.46479486221503363.\n",
      "[I 2024-10-05 08:30:17,318] Trial 26 finished with value: 0.46483026138715094 and parameters: {'n_estimators': 65, 'learning_rate': 0.10328122910373692, 'max_depth': 9, 'subsample': 0.657347522758033, 'colsample_bytree': 0.7953751818640304, 'gamma': 0.0038888440657266765, 'min_child_weight': 9}. Best is trial 12 with value: 0.46479486221503363.\n",
      "[I 2024-10-05 08:30:23,550] Trial 27 finished with value: 0.4652759306977625 and parameters: {'n_estimators': 132, 'learning_rate': 0.11186281087910932, 'max_depth': 8, 'subsample': 0.5070268215607853, 'colsample_bytree': 0.8133454168188783, 'gamma': 0.08594538839801671, 'min_child_weight': 6}. Best is trial 12 with value: 0.46479486221503363.\n",
      "[I 2024-10-05 08:30:25,730] Trial 28 finished with value: 0.47425902746360293 and parameters: {'n_estimators': 65, 'learning_rate': 0.07191032617785784, 'max_depth': 6, 'subsample': 0.6425141827369938, 'colsample_bytree': 0.9503451130062431, 'gamma': 0.018549660813751957, 'min_child_weight': 10}. Best is trial 12 with value: 0.46479486221503363.\n",
      "[I 2024-10-05 08:30:28,501] Trial 29 finished with value: 0.47563952515607333 and parameters: {'n_estimators': 62, 'learning_rate': 0.03636672483212412, 'max_depth': 9, 'subsample': 0.7805440413975294, 'colsample_bytree': 0.6122734196500155, 'gamma': 0.010780734119576252, 'min_child_weight': 9}. Best is trial 12 with value: 0.46479486221503363.\n",
      "[I 2024-10-05 08:30:33,224] Trial 30 finished with value: 0.4650103617273307 and parameters: {'n_estimators': 178, 'learning_rate': 0.08119480485042543, 'max_depth': 9, 'subsample': 0.6934251640777612, 'colsample_bytree': 0.5519860436739847, 'gamma': 0.3795600809446071, 'min_child_weight': 9}. Best is trial 12 with value: 0.46479486221503363.\n",
      "[I 2024-10-05 08:30:36,640] Trial 31 finished with value: 0.46478771326580653 and parameters: {'n_estimators': 85, 'learning_rate': 0.11019866092262139, 'max_depth': 9, 'subsample': 0.8427599277619165, 'colsample_bytree': 0.7301376968743074, 'gamma': 0.1710319766202786, 'min_child_weight': 9}. Best is trial 31 with value: 0.46478771326580653.\n",
      "[I 2024-10-05 08:30:39,648] Trial 32 finished with value: 0.46473105152755123 and parameters: {'n_estimators': 71, 'learning_rate': 0.10121009345044873, 'max_depth': 9, 'subsample': 0.8483790694191855, 'colsample_bytree': 0.7421349379818946, 'gamma': 0.1661827928600481, 'min_child_weight': 8}. Best is trial 32 with value: 0.46473105152755123.\n",
      "[I 2024-10-05 08:30:42,770] Trial 33 finished with value: 0.46476631131062157 and parameters: {'n_estimators': 75, 'learning_rate': 0.11386979228859204, 'max_depth': 9, 'subsample': 0.8307333479847869, 'colsample_bytree': 0.7415312566832308, 'gamma': 0.1595671128386138, 'min_child_weight': 8}. Best is trial 32 with value: 0.46473105152755123.\n",
      "[I 2024-10-05 08:30:48,531] Trial 34 finished with value: 0.46474198306237235 and parameters: {'n_estimators': 152, 'learning_rate': 0.051971399185825766, 'max_depth': 9, 'subsample': 0.8400723386977287, 'colsample_bytree': 0.7329600739165457, 'gamma': 0.16749795087507904, 'min_child_weight': 7}. Best is trial 32 with value: 0.46473105152755123.\n",
      "[I 2024-10-05 08:30:54,112] Trial 35 finished with value: 0.4651016944629965 and parameters: {'n_estimators': 107, 'learning_rate': 0.05150037165156101, 'max_depth': 9, 'subsample': 0.8336910202458087, 'colsample_bytree': 0.7336331894016161, 'gamma': 0.17339272871912242, 'min_child_weight': 7}. Best is trial 32 with value: 0.46473105152755123.\n",
      "[I 2024-10-05 08:30:57,424] Trial 36 finished with value: 0.4682210333766171 and parameters: {'n_estimators': 70, 'learning_rate': 0.04612918372794993, 'max_depth': 9, 'subsample': 0.8787803134025965, 'colsample_bytree': 0.8252806968343318, 'gamma': 0.10271140788220443, 'min_child_weight': 6}. Best is trial 32 with value: 0.46473105152755123.\n",
      "[I 2024-10-05 08:30:59,649] Trial 37 finished with value: 0.4706744128184911 and parameters: {'n_estimators': 89, 'learning_rate': 0.1171879824688355, 'max_depth': 5, 'subsample': 0.823324661523877, 'colsample_bytree': 0.8467514608869351, 'gamma': 0.17898306075581735, 'min_child_weight': 8}. Best is trial 32 with value: 0.46473105152755123.\n",
      "[I 2024-10-05 08:31:02,748] Trial 38 finished with value: 0.46477530565844327 and parameters: {'n_estimators': 129, 'learning_rate': 0.13963090745685836, 'max_depth': 9, 'subsample': 0.884912303728077, 'colsample_bytree': 0.7248918838153553, 'gamma': 0.25611983470509925, 'min_child_weight': 7}. Best is trial 32 with value: 0.46473105152755123.\n",
      "[I 2024-10-05 08:31:05,650] Trial 39 finished with value: 0.4647071173930912 and parameters: {'n_estimators': 128, 'learning_rate': 0.1435244388624074, 'max_depth': 9, 'subsample': 0.9283232499374723, 'colsample_bytree': 0.7782724199206048, 'gamma': 0.256368374939004, 'min_child_weight': 1}. Best is trial 39 with value: 0.4647071173930912.\n",
      "[I 2024-10-05 08:31:08,944] Trial 40 finished with value: 0.4647198109870785 and parameters: {'n_estimators': 153, 'learning_rate': 0.14319056467240762, 'max_depth': 8, 'subsample': 0.9280717631635951, 'colsample_bytree': 0.7828525437386088, 'gamma': 0.20236896212732686, 'min_child_weight': 1}. Best is trial 39 with value: 0.4647071173930912.\n",
      "[I 2024-10-05 08:31:12,285] Trial 41 finished with value: 0.4646460117378872 and parameters: {'n_estimators': 155, 'learning_rate': 0.14922867299742237, 'max_depth': 9, 'subsample': 0.9311462944322912, 'colsample_bytree': 0.7813426696424157, 'gamma': 0.202791557262319, 'min_child_weight': 1}. Best is trial 41 with value: 0.4646460117378872.\n",
      "[I 2024-10-05 08:31:15,661] Trial 42 finished with value: 0.4646677900554336 and parameters: {'n_estimators': 153, 'learning_rate': 0.14293458337351966, 'max_depth': 8, 'subsample': 0.9321666313489161, 'colsample_bytree': 0.7830171405465287, 'gamma': 0.19883836664827326, 'min_child_weight': 1}. Best is trial 41 with value: 0.4646460117378872.\n",
      "[I 2024-10-05 08:31:18,658] Trial 43 finished with value: 0.4648149743754031 and parameters: {'n_estimators': 176, 'learning_rate': 0.17254229081832856, 'max_depth': 8, 'subsample': 0.9277188113832424, 'colsample_bytree': 0.8745946921914486, 'gamma': 0.3015956362807826, 'min_child_weight': 1}. Best is trial 41 with value: 0.4646460117378872.\n",
      "[I 2024-10-05 08:31:21,884] Trial 44 finished with value: 0.46469280352773 and parameters: {'n_estimators': 154, 'learning_rate': 0.1545654270614055, 'max_depth': 8, 'subsample': 0.9326124380078171, 'colsample_bytree': 0.7840501138698391, 'gamma': 0.2037367733691379, 'min_child_weight': 1}. Best is trial 41 with value: 0.4646460117378872.\n",
      "[I 2024-10-05 08:31:26,568] Trial 45 finished with value: 0.46476683419833426 and parameters: {'n_estimators': 156, 'learning_rate': 0.15714392443387282, 'max_depth': 7, 'subsample': 0.9331905289090148, 'colsample_bytree': 0.7786380117352859, 'gamma': 0.20639256118549573, 'min_child_weight': 1}. Best is trial 41 with value: 0.4646460117378872.\n",
      "[I 2024-10-05 08:31:29,470] Trial 46 finished with value: 0.464855148352551 and parameters: {'n_estimators': 141, 'learning_rate': 0.14084321297730482, 'max_depth': 8, 'subsample': 0.9586672421824508, 'colsample_bytree': 0.7987334697453657, 'gamma': 0.2413714760514292, 'min_child_weight': 2}. Best is trial 41 with value: 0.4646460117378872.\n",
      "[I 2024-10-05 08:31:32,896] Trial 47 finished with value: 0.4647370225620492 and parameters: {'n_estimators': 169, 'learning_rate': 0.17223619109769903, 'max_depth': 8, 'subsample': 0.9161212003518974, 'colsample_bytree': 0.8290128062057225, 'gamma': 0.20217828621799133, 'min_child_weight': 2}. Best is trial 41 with value: 0.4646460117378872.\n",
      "[I 2024-10-05 08:31:35,518] Trial 48 finished with value: 0.4820969873175523 and parameters: {'n_estimators': 157, 'learning_rate': 0.1446591611791627, 'max_depth': 3, 'subsample': 0.9711631482229551, 'colsample_bytree': 0.8664828322736368, 'gamma': 0.2545077491377423, 'min_child_weight': 3}. Best is trial 41 with value: 0.4646460117378872.\n",
      "[I 2024-10-05 08:31:37,802] Trial 49 finished with value: 0.46541322485010045 and parameters: {'n_estimators': 121, 'learning_rate': 0.19936575928943845, 'max_depth': 7, 'subsample': 0.9637054518301538, 'colsample_bytree': 0.9075231747165337, 'gamma': 0.3154708940411562, 'min_child_weight': 1}. Best is trial 41 with value: 0.4646460117378872.\n"
     ]
    },
    {
     "name": "stdout",
     "output_type": "stream",
     "text": [
      "Best Hyper-parameters: {'n_estimators': 155, 'learning_rate': 0.14922867299742237, 'max_depth': 9, 'subsample': 0.9311462944322912, 'colsample_bytree': 0.7813426696424157, 'gamma': 0.202791557262319, 'min_child_weight': 1}\n",
      "Test R^2 Score: 0.4421574467399644\n",
      "Test RMSE: 0.46549150338097506\n"
     ]
    }
   ],
   "source": [
    "best_model,y_pred = modelTrain(X_train,y_train)"
   ]
  },
  {
   "cell_type": "markdown",
   "id": "284b8f77",
   "metadata": {
    "papermill": {
     "duration": 0.014881,
     "end_time": "2024-10-05T08:31:38.717373",
     "exception": false,
     "start_time": "2024-10-05T08:31:38.702492",
     "status": "completed"
    },
    "tags": []
   },
   "source": [
    "We have selected XGBoost as our best Model and now we will make predictions on test set(Splitted from the training set)"
   ]
  },
  {
   "cell_type": "markdown",
   "id": "78ac4df6",
   "metadata": {
    "papermill": {
     "duration": 0.014855,
     "end_time": "2024-10-05T08:31:38.747194",
     "exception": false,
     "start_time": "2024-10-05T08:31:38.732339",
     "status": "completed"
    },
    "tags": []
   },
   "source": [
    "# Predictions and Submissions"
   ]
  },
  {
   "cell_type": "code",
   "execution_count": 22,
   "id": "dff9d401",
   "metadata": {
    "execution": {
     "iopub.execute_input": "2024-10-05T08:31:38.780001Z",
     "iopub.status.busy": "2024-10-05T08:31:38.779634Z",
     "iopub.status.idle": "2024-10-05T08:31:38.789662Z",
     "shell.execute_reply": "2024-10-05T08:31:38.788921Z"
    },
    "papermill": {
     "duration": 0.028566,
     "end_time": "2024-10-05T08:31:38.791449",
     "exception": false,
     "start_time": "2024-10-05T08:31:38.762883",
     "status": "completed"
    },
    "tags": []
   },
   "outputs": [],
   "source": [
    "import numpy as np\n",
    "import pandas as pd\n",
    "from sklearn.metrics import mean_squared_error, r2_score\n",
    "from math import sqrt\n",
    "\n",
    "\n",
    "def predict_with_model(model, X_new, y_true=None):\n",
    "    # Make predictions\n",
    "    print(\"Running Inference.....\\n\")\n",
    "    y_pred = model.predict(X_new)\n",
    "    \n",
    "    # If true values are provided, calculate and print performance metrics\n",
    "    if y_true is not None:\n",
    "        rmse = sqrt(mean_squared_error(y_true, y_pred))\n",
    "        rmse = -rmse\n",
    "        print(f\"RMSE on new data: {rmse:.4f}\")\n",
    "        \n",
    "         # Create a scatter plot of predicted vs actual values\n",
    "        import matplotlib.pyplot as plt\n",
    "        plt.figure(figsize=(10, 6))\n",
    "        plt.scatter(y_true, y_pred, alpha=0.5)\n",
    "        plt.plot([y_true.min(), y_true.max()], [y_true.min(), y_true.max()], 'r--', lw=2)\n",
    "        plt.xlabel('Actual Values')\n",
    "        plt.ylabel('Predicted Values')\n",
    "        plt.title('Actual vs Predicted Values on New Data')\n",
    "        plt.show()\n",
    "        \n",
    "        # Create a residual plot\n",
    "        residuals = y_true - y_pred\n",
    "        plt.figure(figsize=(10, 6))\n",
    "        plt.scatter(y_pred, residuals, alpha=0.5)\n",
    "        plt.axhline(y=0, color='r', linestyle='--')\n",
    "        plt.xlabel('Predicted Values')\n",
    "        plt.ylabel('Residuals')\n",
    "        plt.title('Residual Plot on New Data')\n",
    "        plt.show()\n",
    "        \n",
    "    print(\"Completed Running Inference.....\\n\")\n",
    "    \n",
    "    return y_pred"
   ]
  },
  {
   "cell_type": "code",
   "execution_count": 23,
   "id": "b9389519",
   "metadata": {
    "execution": {
     "iopub.execute_input": "2024-10-05T08:31:38.822286Z",
     "iopub.status.busy": "2024-10-05T08:31:38.822011Z",
     "iopub.status.idle": "2024-10-05T08:31:38.835840Z",
     "shell.execute_reply": "2024-10-05T08:31:38.835176Z"
    },
    "papermill": {
     "duration": 0.031563,
     "end_time": "2024-10-05T08:31:38.837755",
     "exception": false,
     "start_time": "2024-10-05T08:31:38.806192",
     "status": "completed"
    },
    "tags": []
   },
   "outputs": [
    {
     "name": "stdout",
     "output_type": "stream",
     "text": [
      "Running Inference.....\n",
      "\n",
      "Completed Running Inference.....\n",
      "\n"
     ]
    }
   ],
   "source": [
    "# Ensure 'top_features' is a list\n",
    "top_features = list(top_features)\n",
    "\n",
    "# Select test data features based on predefined top features\n",
    "test = test[top_features]\n",
    "\n",
    "X_test_processed = test[top_features]\n",
    "\n",
    "# Now, let's try to predict with the test dataset....\n",
    "predictions = predict_with_model(best_model, X_test_processed)"
   ]
  },
  {
   "cell_type": "code",
   "execution_count": 24,
   "id": "5d9f9fa9",
   "metadata": {
    "execution": {
     "iopub.execute_input": "2024-10-05T08:31:38.869698Z",
     "iopub.status.busy": "2024-10-05T08:31:38.869382Z",
     "iopub.status.idle": "2024-10-05T08:31:39.303874Z",
     "shell.execute_reply": "2024-10-05T08:31:39.303094Z"
    },
    "papermill": {
     "duration": 0.452431,
     "end_time": "2024-10-05T08:31:39.306052",
     "exception": false,
     "start_time": "2024-10-05T08:31:38.853621",
     "status": "completed"
    },
    "tags": []
   },
   "outputs": [],
   "source": [
    "import kaggle_evaluation.mcts_inference_server\n",
    "import mcts_inference_server\n",
    "import polars as pl\n",
    "import numpy as np\n",
    "\n",
    "best_model = None\n",
    "counter = 0\n",
    "\n",
    "def predict(test, submission):\n",
    "    global best_model, top_features, counter\n",
    "    \n",
    "    # Train the model if it's the first prediction call\n",
    "    if counter == 0:\n",
    "        best_model, y_pred = modelTrain(X_train, y_train)\n",
    "    counter += 1\n",
    "    \n",
    "    # Select test data features based on predefined top features\n",
    "    test = test[top_features]\n",
    "    \n",
    "    # Generate predictions with the trained model\n",
    "    submissions = best_model.predict(test)\n",
    "    \n",
    "    print(\"Predictions Generated...!!!\")\n",
    "    \n",
    "    # Convert the 'submissions' numpy array to a polars Series\n",
    "    submission_pl = pl.DataFrame(submission)  # Convert the submission to a polars DataFrame if not already\n",
    "    submissions_series = pl.Series('utility_agent1', submissions)\n",
    "    \n",
    "    # Add the predictions as a new column to the submission DataFrame\n",
    "    submission_pl = submission_pl.with_columns(submissions_series)\n",
    "    \n",
    "    return submission_pl"
   ]
  },
  {
   "cell_type": "code",
   "execution_count": 25,
   "id": "6847b449",
   "metadata": {
    "execution": {
     "iopub.execute_input": "2024-10-05T08:31:39.338658Z",
     "iopub.status.busy": "2024-10-05T08:31:39.338136Z",
     "iopub.status.idle": "2024-10-05T08:35:35.737735Z",
     "shell.execute_reply": "2024-10-05T08:35:35.736559Z"
    },
    "papermill": {
     "duration": 236.417796,
     "end_time": "2024-10-05T08:35:35.739685",
     "exception": false,
     "start_time": "2024-10-05T08:31:39.321889",
     "status": "completed"
    },
    "tags": []
   },
   "outputs": [
    {
     "name": "stderr",
     "output_type": "stream",
     "text": [
      "[I 2024-10-05 08:31:39,789] A new study created in memory with name: no-name-b2a881b3-27a9-4481-b628-815caa94fd47\n"
     ]
    },
    {
     "name": "stdout",
     "output_type": "stream",
     "text": [
      "Running Optuna hyper-parameter tuning for XGBoost with 50 trials...\n"
     ]
    },
    {
     "name": "stderr",
     "output_type": "stream",
     "text": [
      "[I 2024-10-05 08:31:44,805] Trial 0 finished with value: 0.46486716844370707 and parameters: {'n_estimators': 172, 'learning_rate': 0.14704882508292383, 'max_depth': 6, 'subsample': 0.9433630819874317, 'colsample_bytree': 0.6131907572915498, 'gamma': 0.016183440750162204, 'min_child_weight': 1}. Best is trial 0 with value: 0.46486716844370707.\n",
      "[I 2024-10-05 08:31:48,918] Trial 1 finished with value: 0.46507567375300374 and parameters: {'n_estimators': 137, 'learning_rate': 0.12213610770066996, 'max_depth': 7, 'subsample': 0.6989772640401795, 'colsample_bytree': 0.7326440640386434, 'gamma': 0.39405486032654113, 'min_child_weight': 5}. Best is trial 0 with value: 0.46486716844370707.\n",
      "[I 2024-10-05 08:31:50,957] Trial 2 finished with value: 0.46786896165781594 and parameters: {'n_estimators': 70, 'learning_rate': 0.2094787176622842, 'max_depth': 5, 'subsample': 0.8859823412172643, 'colsample_bytree': 0.8250280343462657, 'gamma': 0.031522982165250346, 'min_child_weight': 9}. Best is trial 0 with value: 0.46486716844370707.\n",
      "[I 2024-10-05 08:31:53,644] Trial 3 finished with value: 0.4766664052779544 and parameters: {'n_estimators': 100, 'learning_rate': 0.07605813605757979, 'max_depth': 5, 'subsample': 0.8451639168992038, 'colsample_bytree': 0.5791036302908745, 'gamma': 0.11252232438178034, 'min_child_weight': 2}. Best is trial 0 with value: 0.46486716844370707.\n",
      "[I 2024-10-05 08:31:57,238] Trial 4 finished with value: 0.4974124958454257 and parameters: {'n_estimators': 147, 'learning_rate': 0.06956407334076067, 'max_depth': 3, 'subsample': 0.6832290140287376, 'colsample_bytree': 0.8856719035872311, 'gamma': 0.26215108470113097, 'min_child_weight': 9}. Best is trial 0 with value: 0.46486716844370707.\n",
      "[I 2024-10-05 08:32:00,228] Trial 5 finished with value: 0.4647778363768599 and parameters: {'n_estimators': 181, 'learning_rate': 0.24002647398193322, 'max_depth': 9, 'subsample': 0.9525670042627319, 'colsample_bytree': 0.7401090180602132, 'gamma': 0.21267917299874323, 'min_child_weight': 5}. Best is trial 5 with value: 0.4647778363768599.\n",
      "[I 2024-10-05 08:32:06,492] Trial 6 finished with value: 0.4690461806030017 and parameters: {'n_estimators': 152, 'learning_rate': 0.024204301093407425, 'max_depth': 8, 'subsample': 0.8976562137528149, 'colsample_bytree': 0.9431145296181653, 'gamma': 0.39433306915368804, 'min_child_weight': 1}. Best is trial 5 with value: 0.4647778363768599.\n",
      "[I 2024-10-05 08:32:10,347] Trial 7 finished with value: 0.4649908110044606 and parameters: {'n_estimators': 99, 'learning_rate': 0.11293953731923873, 'max_depth': 8, 'subsample': 0.5263091598040104, 'colsample_bytree': 0.8340695863831873, 'gamma': 0.45854238838431877, 'min_child_weight': 1}. Best is trial 5 with value: 0.4647778363768599.\n",
      "[I 2024-10-05 08:32:15,718] Trial 8 finished with value: 0.4647593422105885 and parameters: {'n_estimators': 108, 'learning_rate': 0.08267145296005483, 'max_depth': 9, 'subsample': 0.8541203547869551, 'colsample_bytree': 0.8548473561526025, 'gamma': 0.01685133612764783, 'min_child_weight': 4}. Best is trial 8 with value: 0.4647593422105885.\n",
      "[I 2024-10-05 08:32:18,705] Trial 9 finished with value: 0.46512154696326863 and parameters: {'n_estimators': 165, 'learning_rate': 0.1909758795811456, 'max_depth': 8, 'subsample': 0.8842313404824368, 'colsample_bytree': 0.7728940889198672, 'gamma': 0.4524259754441714, 'min_child_weight': 3}. Best is trial 8 with value: 0.4647593422105885.\n",
      "[I 2024-10-05 08:32:20,045] Trial 10 finished with value: 0.4889481132576738 and parameters: {'n_estimators': 53, 'learning_rate': 0.2950652210682901, 'max_depth': 3, 'subsample': 0.7800984124981776, 'colsample_bytree': 0.9874891325366162, 'gamma': 0.17348653073644665, 'min_child_weight': 7}. Best is trial 8 with value: 0.4647593422105885.\n",
      "[I 2024-10-05 08:32:22,872] Trial 11 finished with value: 0.4648911840017254 and parameters: {'n_estimators': 195, 'learning_rate': 0.2799572881931417, 'max_depth': 9, 'subsample': 0.9978881037357562, 'colsample_bytree': 0.6876921593518102, 'gamma': 0.2552407754476893, 'min_child_weight': 5}. Best is trial 8 with value: 0.4647593422105885.\n",
      "[I 2024-10-05 08:32:28,387] Trial 12 finished with value: 0.46539465103324174 and parameters: {'n_estimators': 109, 'learning_rate': 0.2351005503373871, 'max_depth': 9, 'subsample': 0.7751962252503959, 'colsample_bytree': 0.6773109272954342, 'gamma': 0.14900266511519378, 'min_child_weight': 4}. Best is trial 8 with value: 0.4647593422105885.\n",
      "[I 2024-10-05 08:32:31,495] Trial 13 finished with value: 0.46513443216991046 and parameters: {'n_estimators': 195, 'learning_rate': 0.1757578481994753, 'max_depth': 9, 'subsample': 0.9925687096534708, 'colsample_bytree': 0.8799927591279448, 'gamma': 0.3212622210182107, 'min_child_weight': 7}. Best is trial 8 with value: 0.4647593422105885.\n",
      "[I 2024-10-05 08:32:35,462] Trial 14 finished with value: 0.496344139729895 and parameters: {'n_estimators': 122, 'learning_rate': 0.016346529816125638, 'max_depth': 6, 'subsample': 0.8194699083518209, 'colsample_bytree': 0.7725418321489324, 'gamma': 0.09845017570874258, 'min_child_weight': 7}. Best is trial 8 with value: 0.4647593422105885.\n",
      "[I 2024-10-05 08:32:38,382] Trial 15 finished with value: 0.46534018247424785 and parameters: {'n_estimators': 78, 'learning_rate': 0.24855502170669264, 'max_depth': 7, 'subsample': 0.6136135888364778, 'colsample_bytree': 0.5029682294366289, 'gamma': 0.19688836721617622, 'min_child_weight': 3}. Best is trial 8 with value: 0.4647593422105885.\n",
      "[I 2024-10-05 08:32:44,160] Trial 16 finished with value: 0.464659903291437 and parameters: {'n_estimators': 125, 'learning_rate': 0.0624885697828135, 'max_depth': 9, 'subsample': 0.956253500347517, 'colsample_bytree': 0.8491735287777242, 'gamma': 0.06658952954208494, 'min_child_weight': 6}. Best is trial 16 with value: 0.464659903291437.\n",
      "[I 2024-10-05 08:32:48,706] Trial 17 finished with value: 0.465576533748089 and parameters: {'n_estimators': 122, 'learning_rate': 0.06328861306502999, 'max_depth': 7, 'subsample': 0.8296471807904954, 'colsample_bytree': 0.9069501713728686, 'gamma': 0.0676206208199847, 'min_child_weight': 6}. Best is trial 16 with value: 0.464659903291437.\n",
      "[I 2024-10-05 08:32:52,159] Trial 18 finished with value: 0.46486166063474876 and parameters: {'n_estimators': 80, 'learning_rate': 0.09810374496884457, 'max_depth': 8, 'subsample': 0.9337677117114809, 'colsample_bytree': 0.833420753268551, 'gamma': 0.015411918309719497, 'min_child_weight': 8}. Best is trial 16 with value: 0.464659903291437.\n",
      "[I 2024-10-05 08:32:55,862] Trial 19 finished with value: 0.47592170560708214 and parameters: {'n_estimators': 135, 'learning_rate': 0.05089640643351115, 'max_depth': 5, 'subsample': 0.7327230222233314, 'colsample_bytree': 0.9533385492028815, 'gamma': 0.08275364368268243, 'min_child_weight': 10}. Best is trial 16 with value: 0.464659903291437.\n",
      "[I 2024-10-05 08:32:58,740] Trial 20 finished with value: 0.4739405761246994 and parameters: {'n_estimators': 108, 'learning_rate': 0.1467686261017053, 'max_depth': 4, 'subsample': 0.8647235907548553, 'colsample_bytree': 0.837685908084318, 'gamma': 0.13443288519217117, 'min_child_weight': 4}. Best is trial 16 with value: 0.464659903291437.\n",
      "[I 2024-10-05 08:33:05,622] Trial 21 finished with value: 0.4648484146674291 and parameters: {'n_estimators': 159, 'learning_rate': 0.04209617027169315, 'max_depth': 9, 'subsample': 0.9400905225957171, 'colsample_bytree': 0.7394379604907944, 'gamma': 0.2091051739824693, 'min_child_weight': 6}. Best is trial 16 with value: 0.464659903291437.\n",
      "[I 2024-10-05 08:33:12,118] Trial 22 finished with value: 0.4649631026930273 and parameters: {'n_estimators': 178, 'learning_rate': 0.09477007118813119, 'max_depth': 9, 'subsample': 0.956980119894516, 'colsample_bytree': 0.7820382948064437, 'gamma': 0.056715029205094004, 'min_child_weight': 4}. Best is trial 16 with value: 0.464659903291437.\n",
      "[I 2024-10-05 08:33:15,576] Trial 23 finished with value: 0.4648322301759286 and parameters: {'n_estimators': 131, 'learning_rate': 0.13281579277217456, 'max_depth': 8, 'subsample': 0.8976632377826328, 'colsample_bytree': 0.6931149438527435, 'gamma': 0.30096386358879407, 'min_child_weight': 5}. Best is trial 16 with value: 0.464659903291437.\n",
      "[I 2024-10-05 08:33:20,274] Trial 24 finished with value: 0.4652046328114876 and parameters: {'n_estimators': 93, 'learning_rate': 0.172770235039557, 'max_depth': 9, 'subsample': 0.9640305310121725, 'colsample_bytree': 0.7985871653165832, 'gamma': 0.0038274237191707194, 'min_child_weight': 3}. Best is trial 16 with value: 0.464659903291437.\n",
      "[I 2024-10-05 08:33:24,088] Trial 25 finished with value: 0.46520907508820564 and parameters: {'n_estimators': 119, 'learning_rate': 0.25293468724208445, 'max_depth': 7, 'subsample': 0.801278415973905, 'colsample_bytree': 0.8698094633817515, 'gamma': 0.2223308505716089, 'min_child_weight': 6}. Best is trial 16 with value: 0.464659903291437.\n",
      "[I 2024-10-05 08:33:28,784] Trial 26 finished with value: 0.4647581648797171 and parameters: {'n_estimators': 143, 'learning_rate': 0.09384680215611169, 'max_depth': 8, 'subsample': 0.9219037994997412, 'colsample_bytree': 0.6348749344609532, 'gamma': 0.14500579566195226, 'min_child_weight': 4}. Best is trial 16 with value: 0.464659903291437.\n",
      "[I 2024-10-05 08:33:34,918] Trial 27 finished with value: 0.4648163071170822 and parameters: {'n_estimators': 139, 'learning_rate': 0.08821110556686773, 'max_depth': 8, 'subsample': 0.91545503660068, 'colsample_bytree': 0.6339731458829363, 'gamma': 0.05167893920614374, 'min_child_weight': 4}. Best is trial 16 with value: 0.464659903291437.\n",
      "[I 2024-10-05 08:33:39,394] Trial 28 finished with value: 0.4685756004867736 and parameters: {'n_estimators': 112, 'learning_rate': 0.03833470728919397, 'max_depth': 8, 'subsample': 0.8534408481524098, 'colsample_bytree': 0.5148655843102286, 'gamma': 0.12839301728611374, 'min_child_weight': 2}. Best is trial 16 with value: 0.464659903291437.\n",
      "[I 2024-10-05 08:33:43,673] Trial 29 finished with value: 0.4651032052140721 and parameters: {'n_estimators': 153, 'learning_rate': 0.1158838028553463, 'max_depth': 6, 'subsample': 0.9234977777648027, 'colsample_bytree': 0.6074742199353194, 'gamma': 0.16103444338199158, 'min_child_weight': 2}. Best is trial 16 with value: 0.464659903291437.\n",
      "[I 2024-10-05 08:33:46,648] Trial 30 finished with value: 0.46530892267038215 and parameters: {'n_estimators': 89, 'learning_rate': 0.14567475526350102, 'max_depth': 6, 'subsample': 0.9834877640927298, 'colsample_bytree': 0.9140814176471184, 'gamma': 0.04537288341408453, 'min_child_weight': 3}. Best is trial 16 with value: 0.464659903291437.\n",
      "[I 2024-10-05 08:33:53,199] Trial 31 finished with value: 0.46466054627360576 and parameters: {'n_estimators': 179, 'learning_rate': 0.05706640641143438, 'max_depth': 9, 'subsample': 0.9556327731111585, 'colsample_bytree': 0.5576727117056377, 'gamma': 0.11028456805807765, 'min_child_weight': 5}. Best is trial 16 with value: 0.464659903291437.\n",
      "[I 2024-10-05 08:33:59,699] Trial 32 finished with value: 0.4647879364966231 and parameters: {'n_estimators': 184, 'learning_rate': 0.0818482962045747, 'max_depth': 9, 'subsample': 0.9276059833165073, 'colsample_bytree': 0.5640803160395562, 'gamma': 0.0978661172441824, 'min_child_weight': 6}. Best is trial 16 with value: 0.464659903291437.\n",
      "[I 2024-10-05 08:34:07,814] Trial 33 finished with value: 0.46479379987284747 and parameters: {'n_estimators': 167, 'learning_rate': 0.05563614878986661, 'max_depth': 9, 'subsample': 0.8721728898770579, 'colsample_bytree': 0.5526027579816423, 'gamma': 0.023420244422835794, 'min_child_weight': 4}. Best is trial 16 with value: 0.464659903291437.\n",
      "[I 2024-10-05 08:34:12,371] Trial 34 finished with value: 0.4647175028025739 and parameters: {'n_estimators': 143, 'learning_rate': 0.10498507492674, 'max_depth': 8, 'subsample': 0.9700206909901643, 'colsample_bytree': 0.641682323465953, 'gamma': 0.07553848916203787, 'min_child_weight': 5}. Best is trial 16 with value: 0.464659903291437.\n",
      "[I 2024-10-05 08:34:16,328] Trial 35 finished with value: 0.4649424232070395 and parameters: {'n_estimators': 143, 'learning_rate': 0.11129121316932584, 'max_depth': 7, 'subsample': 0.9803615959194852, 'colsample_bytree': 0.642043817035842, 'gamma': 0.12067088139995087, 'min_child_weight': 5}. Best is trial 16 with value: 0.464659903291437.\n",
      "[I 2024-10-05 08:34:20,848] Trial 36 finished with value: 0.472472527358416 and parameters: {'n_estimators': 129, 'learning_rate': 0.030975799022453898, 'max_depth': 7, 'subsample': 0.9651472467064038, 'colsample_bytree': 0.6131541636284366, 'gamma': 0.08116232040039299, 'min_child_weight': 8}. Best is trial 16 with value: 0.464659903291437.\n",
      "[I 2024-10-05 08:34:26,668] Trial 37 finished with value: 0.46488326592714796 and parameters: {'n_estimators': 147, 'learning_rate': 0.07119268842413777, 'max_depth': 8, 'subsample': 0.6742329951056436, 'colsample_bytree': 0.5896745671553585, 'gamma': 0.17181625479892854, 'min_child_weight': 5}. Best is trial 16 with value: 0.464659903291437.\n",
      "[I 2024-10-05 08:34:32,132] Trial 38 finished with value: 0.4649863359629406 and parameters: {'n_estimators': 173, 'learning_rate': 0.1287595741446655, 'max_depth': 8, 'subsample': 0.9011937784407211, 'colsample_bytree': 0.544665820908326, 'gamma': 0.10046214884194157, 'min_child_weight': 7}. Best is trial 16 with value: 0.464659903291437.\n",
      "[I 2024-10-05 08:34:36,926] Trial 39 finished with value: 0.4649960214126418 and parameters: {'n_estimators': 153, 'learning_rate': 0.103225528271401, 'max_depth': 7, 'subsample': 0.9590606475713181, 'colsample_bytree': 0.7155371007304419, 'gamma': 0.18456399775690036, 'min_child_weight': 6}. Best is trial 16 with value: 0.464659903291437.\n",
      "[I 2024-10-05 08:34:43,358] Trial 40 finished with value: 0.46491673283992635 and parameters: {'n_estimators': 163, 'learning_rate': 0.06604924687235399, 'max_depth': 8, 'subsample': 0.5287176795273434, 'colsample_bytree': 0.6531062742003256, 'gamma': 0.1449822464896096, 'min_child_weight': 5}. Best is trial 16 with value: 0.464659903291437.\n",
      "[I 2024-10-05 08:34:48,846] Trial 41 finished with value: 0.4648429703961742 and parameters: {'n_estimators': 115, 'learning_rate': 0.08719525359486538, 'max_depth': 9, 'subsample': 0.9108517796863489, 'colsample_bytree': 0.8583036149295973, 'gamma': 0.03381613652497144, 'min_child_weight': 4}. Best is trial 16 with value: 0.464659903291437.\n",
      "[I 2024-10-05 08:34:54,988] Trial 42 finished with value: 0.4646568454124507 and parameters: {'n_estimators': 136, 'learning_rate': 0.05181115104099214, 'max_depth': 9, 'subsample': 0.9398939018276251, 'colsample_bytree': 0.7139431018440748, 'gamma': 0.07378932702217625, 'min_child_weight': 5}. Best is trial 42 with value: 0.4646568454124507.\n",
      "[I 2024-10-05 08:35:00,998] Trial 43 finished with value: 0.4647724143605253 and parameters: {'n_estimators': 139, 'learning_rate': 0.047956404167105594, 'max_depth': 9, 'subsample': 0.9438816439251685, 'colsample_bytree': 0.6579452409388431, 'gamma': 0.08530912596971557, 'min_child_weight': 5}. Best is trial 42 with value: 0.4646568454124507.\n",
      "[I 2024-10-05 08:35:06,721] Trial 44 finished with value: 0.4770757187603228 and parameters: {'n_estimators': 131, 'learning_rate': 0.018083820103686025, 'max_depth': 8, 'subsample': 0.8866132392154585, 'colsample_bytree': 0.7159608060148273, 'gamma': 0.11872845846218777, 'min_child_weight': 6}. Best is trial 42 with value: 0.4646568454124507.\n",
      "[I 2024-10-05 08:35:15,399] Trial 45 finished with value: 0.48007466699833473 and parameters: {'n_estimators': 188, 'learning_rate': 0.010091785433060524, 'max_depth': 9, 'subsample': 0.99834910256849, 'colsample_bytree': 0.5947560931515974, 'gamma': 0.06575243909227652, 'min_child_weight': 5}. Best is trial 42 with value: 0.4646568454124507.\n",
      "[I 2024-10-05 08:35:19,803] Trial 46 finished with value: 0.4656422093265906 and parameters: {'n_estimators': 148, 'learning_rate': 0.05904527803773116, 'max_depth': 9, 'subsample': 0.965288342251604, 'colsample_bytree': 0.6294543487397194, 'gamma': 0.49390601573117654, 'min_child_weight': 3}. Best is trial 42 with value: 0.4646568454124507.\n",
      "[I 2024-10-05 08:35:26,088] Trial 47 finished with value: 0.46692229707673005 and parameters: {'n_estimators': 159, 'learning_rate': 0.030614057202230073, 'max_depth': 8, 'subsample': 0.9334744885620558, 'colsample_bytree': 0.6703905344649596, 'gamma': 0.23264374442176164, 'min_child_weight': 8}. Best is trial 42 with value: 0.4646568454124507.\n",
      "[I 2024-10-05 08:35:28,867] Trial 48 finished with value: 0.48350511642112026 and parameters: {'n_estimators': 127, 'learning_rate': 0.07562098351607466, 'max_depth': 4, 'subsample': 0.9799502485131225, 'colsample_bytree': 0.7135519304761209, 'gamma': 0.11023618567059601, 'min_child_weight': 7}. Best is trial 42 with value: 0.4646568454124507.\n",
      "[I 2024-10-05 08:35:33,959] Trial 49 finished with value: 0.46497969599346706 and parameters: {'n_estimators': 136, 'learning_rate': 0.10524441385161613, 'max_depth': 9, 'subsample': 0.8244627422248089, 'colsample_bytree': 0.5259670021080557, 'gamma': 0.15155423465508033, 'min_child_weight': 5}. Best is trial 42 with value: 0.4646568454124507.\n"
     ]
    },
    {
     "name": "stdout",
     "output_type": "stream",
     "text": [
      "Best Hyper-parameters: {'n_estimators': 136, 'learning_rate': 0.05181115104099214, 'max_depth': 9, 'subsample': 0.9398939018276251, 'colsample_bytree': 0.7139431018440748, 'gamma': 0.07378932702217625, 'min_child_weight': 5}\n",
      "Test R^2 Score: 0.44221668217961674\n",
      "Test RMSE: 0.4654667882299688\n",
      "Predictions Generated...!!!\n"
     ]
    }
   ],
   "source": [
    "import kaggle_evaluation.mcts_inference_server\n",
    "import mcts_inference_server\n",
    "\n",
    "# Set up the inference server\n",
    "inference_server = kaggle_evaluation.mcts_inference_server.MCTSInferenceServer(predict)\n",
    "\n",
    "# Check if it's a Kaggle competition rerun or running locally\n",
    "if os.getenv('KAGGLE_IS_COMPETITION_RERUN'):\n",
    "    inference_server.serve()\n",
    "else:\n",
    "    inference_server.run_local_gateway(\n",
    "        (\n",
    "            '/kaggle/input/um-game-playing-strength-of-mcts-variants/test.csv',\n",
    "            '/kaggle/input/um-game-playing-strength-of-mcts-variants/sample_submission.csv'\n",
    "        )\n",
    "    )"
   ]
  },
  {
   "cell_type": "code",
   "execution_count": null,
   "id": "d55cae33",
   "metadata": {
    "papermill": {
     "duration": 0.01886,
     "end_time": "2024-10-05T08:35:35.777937",
     "exception": false,
     "start_time": "2024-10-05T08:35:35.759077",
     "status": "completed"
    },
    "tags": []
   },
   "outputs": [],
   "source": []
  }
 ],
 "metadata": {
  "kaggle": {
   "accelerator": "gpu",
   "dataSources": [
    {
     "databundleVersionId": 9515283,
     "sourceId": 70089,
     "sourceType": "competition"
    }
   ],
   "isGpuEnabled": true,
   "isInternetEnabled": false,
   "language": "python",
   "sourceType": "notebook"
  },
  "kernelspec": {
   "display_name": "Python 3",
   "language": "python",
   "name": "python3"
  },
  "language_info": {
   "codemirror_mode": {
    "name": "ipython",
    "version": 3
   },
   "file_extension": ".py",
   "mimetype": "text/x-python",
   "name": "python",
   "nbconvert_exporter": "python",
   "pygments_lexer": "ipython3",
   "version": "3.10.14"
  },
  "papermill": {
   "default_parameters": {},
   "duration": 639.915503,
   "end_time": "2024-10-05T08:35:36.316296",
   "environment_variables": {},
   "exception": null,
   "input_path": "__notebook__.ipynb",
   "output_path": "__notebook__.ipynb",
   "parameters": {},
   "start_time": "2024-10-05T08:24:56.400793",
   "version": "2.6.0"
  }
 },
 "nbformat": 4,
 "nbformat_minor": 5
}
